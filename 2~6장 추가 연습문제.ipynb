{
 "cells": [
  {
   "cell_type": "markdown",
   "id": "da28b2c5",
   "metadata": {},
   "source": [
    "# 1. 2장 추가 연습 문제"
   ]
  },
  {
   "cell_type": "markdown",
   "id": "3f7e8f3f",
   "metadata": {},
   "source": [
    "## 사용자한테 이름 나이 입력해서 100 살 되는 연도 출력하기 (현재는 2020년)"
   ]
  },
  {
   "cell_type": "code",
   "execution_count": 2,
   "id": "c8ced5a8",
   "metadata": {},
   "outputs": [
    {
     "name": "stdout",
     "output_type": "stream",
     "text": [
      "이름은 무엇인가요 : 홍길동\n",
      "나이는 몇살인가요 : 25\n",
      "홍길동 이(가) 100살이 되는 연도는  2095\n"
     ]
    }
   ],
   "source": [
    "name = input(\"이름은 무엇인가요 : \")\n",
    "age  = int(input(\"나이는 몇살인가요 : \"))\n",
    "\n",
    "print(name,\"이(가) 100살이 되는 연도는 \", 2020 +(100-age))"
   ]
  },
  {
   "cell_type": "markdown",
   "id": "6220dba6",
   "metadata": {},
   "source": [
    "# 사용자로부터 원의 반지름을 입력받아서 원의 면적 계산하는 프로그램"
   ]
  },
  {
   "cell_type": "code",
   "execution_count": 4,
   "id": "bf82a658",
   "metadata": {},
   "outputs": [
    {
     "name": "stdout",
     "output_type": "stream",
     "text": [
      "반지름을 입력하시오 : 18\n",
      "반지름이 18 인 원의 넓이 =  1017.36\n"
     ]
    }
   ],
   "source": [
    "r = int(input(\"반지름을 입력하시오 : \"))\n",
    "\n",
    "print(\"반지름이\",r,\"인 원의 넓이 = \", 3.14*r*r)"
   ]
  },
  {
   "cell_type": "markdown",
   "id": "48b2d2b8",
   "metadata": {},
   "source": [
    "# 삼각형의 한 변의 길이를 side 변수로 나타내고, 초기값은 100 , 화면에 삼각형을 그려보기"
   ]
  },
  {
   "cell_type": "code",
   "execution_count": 1,
   "id": "5f24fc27",
   "metadata": {},
   "outputs": [],
   "source": [
    "import turtle\n",
    "\n",
    "t = turtle.Turtle()\n",
    "t.shape(\"turtle\")\n",
    "side = 100\n",
    "\n",
    "def move(side):\n",
    "    for i in range(3):\n",
    "        t.forward(side)\n",
    "        t.left(120)\n",
    "    \n",
    "# 함수 호출\n",
    "move(side)\n",
    "turtle.done()\n"
   ]
  },
  {
   "cell_type": "markdown",
   "id": "9c5d3183",
   "metadata": {},
   "source": [
    "# 사각형에 가운데 거북이가 있는 프로그램 작성"
   ]
  },
  {
   "cell_type": "code",
   "execution_count": 1,
   "id": "d75e1d62",
   "metadata": {},
   "outputs": [],
   "source": [
    "import turtle\n",
    "\n",
    "t = turtle.Turtle()\n",
    "t.shape(\"turtle\")\n",
    "\n",
    "side = 50\n",
    "angle = 90\n",
    "\n",
    "for i in range(4):\n",
    "    t.forward(side*2)\n",
    "    t.left(angle)\n",
    "\n",
    "t.up\n",
    "t.goto(0,side)\n",
    "t.forward(side*2)\n",
    "t.left(angle)\n",
    "t.forward(side)\n",
    "t.left(angle)\n",
    "t.forward(side)\n",
    "t.left(angle)\n",
    "t.forward(side*2)\n",
    "t.back(side)\n",
    "t.down()\n",
    "\n",
    "turtle.done()"
   ]
  },
  {
   "cell_type": "markdown",
   "id": "b3842d50",
   "metadata": {},
   "source": [
    "#  2. 3장 추가문제"
   ]
  },
  {
   "cell_type": "markdown",
   "id": "9eb48f68",
   "metadata": {},
   "source": [
    "# 농장 동물의 다리 수를 계산하는 프로그램 "
   ]
  },
  {
   "cell_type": "code",
   "execution_count": 1,
   "id": "ae796393",
   "metadata": {},
   "outputs": [
    {
     "name": "stdout",
     "output_type": "stream",
     "text": [
      "닭의 수 : 2\n",
      "돼지의 수 : 3\n",
      "소의 수 : 4\n",
      "전체 다리의 수 : 32\n"
     ]
    }
   ],
   "source": [
    "ch = int(input(\"닭의 수 : \"))\n",
    "p = int(input(\"돼지의 수 : \"))\n",
    "cow = int(input(\"소의 수 : \"))\n",
    "\n",
    "print(\"전체 다리의 수 :\", (ch*2)+(p*4)+(cow*4))"
   ]
  },
  {
   "cell_type": "markdown",
   "id": "f1778a1c",
   "metadata": {},
   "source": [
    "# 두 점의 좌표를 입력받아서 원의 거리를 계산하기"
   ]
  },
  {
   "cell_type": "code",
   "execution_count": 4,
   "id": "24c35625",
   "metadata": {},
   "outputs": [
    {
     "name": "stdout",
     "output_type": "stream",
     "text": [
      "x1:0\n",
      "y1:0\n",
      "x2:100\n",
      "y2:100\n",
      "두 점 사이의 거리  =  141.4213562373095\n"
     ]
    }
   ],
   "source": [
    "import math\n",
    "x1 = int(input(\"x1:\"))\n",
    "y1 = int(input(\"y1:\"))\n",
    "x2 = int(input(\"x2:\"))\n",
    "y2 = int(input(\"y2:\"))\n",
    "\n",
    "print(\"두 점 사이의 거리  = \", math.sqrt((x1-x2)**2 + (y1 - y2)**2) )\n",
    "# 루트는 **0.5 로 해도 됌"
   ]
  },
  {
   "cell_type": "markdown",
   "id": "c4124f43",
   "metadata": {},
   "source": [
    "# 터틀 그래픽 "
   ]
  },
  {
   "cell_type": "markdown",
   "id": "f03a57a5",
   "metadata": {},
   "source": [
    "## 터틀 - 삼각형 그리기"
   ]
  },
  {
   "cell_type": "code",
   "execution_count": null,
   "id": "c1bf682a",
   "metadata": {},
   "outputs": [],
   "source": [
    "import turtle\n",
    "\n",
    "t = turtle.Turtle()\n",
    "t.shape(\"turtle\")\n",
    "\n",
    "t.goto(0,0)\n",
    "t.left(45)\n",
    "t.forward(141)\n",
    "t.goto(0,0)\n",
    "#t.sethead(45)\n",
    "t.right(45)\n",
    "t.forward(100)\n",
    "t.left(90)\n",
    "t.forward(100)\n",
    "\n",
    "\n",
    "turtle.done()"
   ]
  },
  {
   "cell_type": "markdown",
   "id": "a449bf63",
   "metadata": {},
   "source": [
    "## 터틀 - 두점을 입력받아서 연결하는 직선 그리고, 끝점에 직선의 길이를 계산하기"
   ]
  },
  {
   "cell_type": "code",
   "execution_count": null,
   "id": "2153d20d",
   "metadata": {},
   "outputs": [],
   "source": [
    "import turtle\n",
    "import math\n",
    "\n",
    "t= turtle.Turtle()\n",
    "t.shape(\"turtle\")\n",
    "\n",
    "x1 = int(input(\"x1:\"))\n",
    "y1 = int(input(\"y1:\"))\n",
    "x2 = int(input(\"x2:\"))\n",
    "y2 = int(input(\"y2:\"))\n",
    "\n",
    "t.goto(x1,y1)\n",
    "t.setheading(45)\n",
    "t.goto(x2,y2)\n",
    "\n",
    "t.up()\n",
    "t.write(\"직선의 길이 : \",math.sqrt((x1-x2)**2 + (y1 - y2)**2)  )\n",
    "\n",
    "turtle.done()"
   ]
  },
  {
   "cell_type": "markdown",
   "id": "a44bca71",
   "metadata": {},
   "source": [
    "## time을 사용해서 현재 시간의 시와 분을 계산하기"
   ]
  },
  {
   "cell_type": "code",
   "execution_count": 20,
   "id": "4d01732d",
   "metadata": {},
   "outputs": [
    {
     "name": "stdout",
     "output_type": "stream",
     "text": [
      "1 27288403\n",
      "2 43\n",
      "3 454806\n",
      "1637304213.829482\n",
      "현재 시간(영국 그리니치 시각): 6 시 43 분\n"
     ]
    }
   ],
   "source": [
    "import time\n",
    "\n",
    "fseconds = time.time()\n",
    "\n",
    "total_sec = int(fseconds)\n",
    "total_min = total_sec //60\n",
    "print(1, total_min)\n",
    "minute = total_min%60  #나머지 값은 분\n",
    "print(2, minute)\n",
    "total_hour = total_min // #나머지 몫은 시간\n",
    "print(3, total_hour)\n",
    "hour = total_hour % 24\n",
    "\n",
    "print(fseconds)\n",
    "print(\"현재 시간(영국 그리니치 시각):\" , str(hour),\"시\", str(minute),\"분\")"
   ]
  },
  {
   "cell_type": "markdown",
   "id": "fbf897b1",
   "metadata": {},
   "source": [
    "# 3. 4장 연습문제"
   ]
  },
  {
   "cell_type": "markdown",
   "id": "e74ee85a",
   "metadata": {},
   "source": [
    "## 사용자가 입력한 문자열에 하는중을 붙이는 프로그램"
   ]
  },
  {
   "cell_type": "code",
   "execution_count": 9,
   "id": "fde97727",
   "metadata": {},
   "outputs": [
    {
     "name": "stdout",
     "output_type": "stream",
     "text": [
      "문자열을 입력하시오 : 청소\n",
      "청소하는 중\n"
     ]
    }
   ],
   "source": [
    "s = input(\"문자열을 입력하시오 : \")\n",
    "print(s + \"하는 중\")"
   ]
  },
  {
   "cell_type": "markdown",
   "id": "d633abdb",
   "metadata": {},
   "source": [
    "## 사용자가 입력한 기호 안에 문자열을 삽입하기 (기호는 문자 두개)\n"
   ]
  },
  {
   "cell_type": "code",
   "execution_count": 10,
   "id": "b7591fe3",
   "metadata": {},
   "outputs": [
    {
     "name": "stdout",
     "output_type": "stream",
     "text": [
      "기호를 입력하시오 : []\n",
      "중간에 삽입할 문자열을 입력하시오 : python\n",
      "[ python ]\n"
     ]
    }
   ],
   "source": [
    "list = []\n",
    "\n",
    "\n",
    "a = input(\"기호를 입력하시오 : \")\n",
    "b = input(\"중간에 삽입할 문자열을 입력하시오 : \")\n",
    "print(a[:1],b,a[1:2])\n",
    "#print(a[1:2])\n",
    "#b = input(\"중간에 삽입할 문자열을 입력하시오 : \")\n"
   ]
  },
  {
   "cell_type": "markdown",
   "id": "8ae67dcd",
   "metadata": {},
   "source": [
    "## 사용자로부터 파일이 위치한 드라이브, 디렉토리 이름, 파일이름 확장자를 받아서 완전한 파일 이름을 만드는 프로그램"
   ]
  },
  {
   "cell_type": "code",
   "execution_count": 7,
   "id": "28535da5",
   "metadata": {},
   "outputs": [
    {
     "name": "stdout",
     "output_type": "stream",
     "text": [
      "드라이브 이름 :c\n",
      "디렉토리 이름 : \\test\\\n",
      "파일 이름 : sample\n",
      "확장자 : py\n",
      "완전한 이름은 c:\\test\\sample.py\n"
     ]
    }
   ],
   "source": [
    "d = input(\"드라이브 이름 :\")\n",
    "dic = input(\"디렉토리 이름 : \")\n",
    "file = input(\"파일 이름 : \")\n",
    "py = input(\"확장자 : \")\n",
    "\n",
    "print(\"완전한 이름은\",d+\":\"+dic+file+\".\"+py)"
   ]
  },
  {
   "cell_type": "markdown",
   "id": "381f9aad",
   "metadata": {},
   "source": [
    "## 4. 5장 연습문제"
   ]
  },
  {
   "cell_type": "markdown",
   "id": "db72af90",
   "metadata": {},
   "source": [
    "## 사용자로부터 정수를 입력받아서 양수, 0 음수를 출력"
   ]
  },
  {
   "cell_type": "code",
   "execution_count": 17,
   "id": "02aebe9e",
   "metadata": {},
   "outputs": [
    {
     "name": "stdout",
     "output_type": "stream",
     "text": [
      "정수를 입력하시오 : 16\n",
      "양수\n"
     ]
    }
   ],
   "source": [
    "a = int(input(\"정수를 입력하시오 : \"))\n",
    "\n",
    "if a == 0:\n",
    "    print(\"0\")\n",
    "elif a > 0:\n",
    "    print(\"양수\")\n",
    "else :\n",
    "    print(\"음수\")\n",
    "    "
   ]
  },
  {
   "cell_type": "markdown",
   "id": "d57ae997",
   "metadata": {},
   "source": [
    "## 인터넷 쇼핑몰에서 배송료를 계산하는 코드"
   ]
  },
  {
   "cell_type": "code",
   "execution_count": 18,
   "id": "98ad261e",
   "metadata": {},
   "outputs": [
    {
     "name": "stdout",
     "output_type": "stream",
     "text": [
      "국가를 입력하시오 : 한국\n",
      "도를 입력하시오 : 제주도\n",
      "배송료는 10000 원입니다.\n"
     ]
    }
   ],
   "source": [
    "c = input(\"국가를 입력하시오 : \")\n",
    "d = input(\"도를 입력하시오 : \")\n",
    "ship =5000\n",
    "if c == '한국' : \n",
    "    if d == '제주도':\n",
    "        ship = 10000\n",
    "\n",
    "else:\n",
    "    ship = 20000\n",
    "    \n",
    "print(\"배송료는\", ship, \"원입니다.\")"
   ]
  },
  {
   "cell_type": "markdown",
   "id": "be0feb8b",
   "metadata": {},
   "source": [
    "## 이차방정식의 계수를 입력하면 2차 방정식의 근을 계산하여서 출력하는 프로그램. \n",
    "### (하나의 실근을 가지는지 2개의 실근을 갖는지, 실근이 존재하지 않는지를 먼저 출력하기)\n",
    "\n",
    "### D = b**2 - 4ac, d> 0 두개의 근, d = 0 중근, d<0 근이 없음"
   ]
  },
  {
   "cell_type": "code",
   "execution_count": 21,
   "id": "01e11c93",
   "metadata": {},
   "outputs": [
    {
     "name": "stdout",
     "output_type": "stream",
     "text": [
      "2차 함수 : (a*2 x^2)+b*x+c\n",
      "a : 2\n",
      "b : 8\n",
      "c : 2\n",
      "2개의 실근이 있습니다.\n"
     ]
    }
   ],
   "source": [
    "print(\"2차 함수 : (a*2 x^2)+b*x+c\")\n",
    "a = int(input(\"a : \"))\n",
    "b = int(input(\"b : \"))\n",
    "c = int(input(\"c : \"))\n",
    "\n",
    "d = (b**2)-(4*a*c)\n",
    "if d > 0 :\n",
    "    print(\"2개의 실근이 있습니다.\")\n",
    "    # 근은 뭐가 나오는지까지\n",
    "elif d == 0:\n",
    "    print(\"중근이 있습니다.\")\n",
    "else : \n",
    "    print(\"실근이 존재하지 않습니다.\")\n",
    "    "
   ]
  },
  {
   "cell_type": "markdown",
   "id": "3ca34b4e",
   "metadata": {},
   "source": [
    "## 6장 추가 연습문제"
   ]
  },
  {
   "cell_type": "markdown",
   "id": "89c3c1b4",
   "metadata": {},
   "source": [
    "## 사용자에게 곱셈 퀴즈를 내고 답을 받기, 올바른 답을 입력할때까지 반복"
   ]
  },
  {
   "cell_type": "code",
   "execution_count": 24,
   "id": "edcaf28a",
   "metadata": {},
   "outputs": [
    {
     "name": "stdout",
     "output_type": "stream",
     "text": [
      "3*9는2\n",
      "3*9는27\n",
      "정답입니다.\n"
     ]
    }
   ],
   "source": [
    "while True:\n",
    "    a = int(input(\"3*9는\")) \n",
    "    answer = 27\n",
    "    \n",
    "    if a == answer:\n",
    "        print(\"정답입니다.\")\n",
    "        break\n",
    "    else:\n",
    "        continue"
   ]
  },
  {
   "cell_type": "markdown",
   "id": "fe213d1b",
   "metadata": {},
   "source": [
    "## 난수 생성 함수를 사용해서 2개의 주사위 던지기"
   ]
  },
  {
   "cell_type": "code",
   "execution_count": 27,
   "id": "0cc61b2f",
   "metadata": {},
   "outputs": [
    {
     "name": "stdout",
     "output_type": "stream",
     "text": [
      "첫번째 주사위 =  2 두번째 주사위 =  5\n",
      "첫번째 주사위 =  2 두번째 주사위 =  2\n",
      "첫번째 주사위 =  3 두번째 주사위 =  6\n"
     ]
    }
   ],
   "source": [
    "import random\n",
    "\n",
    "\n",
    "\n",
    "for i in range(3):\n",
    "    r  = random.randint(1,6)\n",
    "    r1 = random.randint(1,6)\n",
    "    print(\"첫번째 주사위 = \", r, \"두번째 주사위 = \", r1)"
   ]
  },
  {
   "cell_type": "markdown",
   "id": "2ea475c6",
   "metadata": {},
   "source": [
    "##  터틀 그래픽과 반복"
   ]
  },
  {
   "cell_type": "code",
   "execution_count": null,
   "id": "84f507ca",
   "metadata": {},
   "outputs": [],
   "source": [
    "import turtle\n",
    "\n",
    "t= turtle.Turtle()\n",
    "t.shape(\"turtle\")\n",
    "t.color(\"blue\")\n",
    "for i in range(6):\n",
    "    t.goto(0,0)\n",
    "    t.forward(100)\n",
    "    t.forward(-30)\n",
    "    t.left(60)\n",
    "    t.forward(30)\n",
    "    t.forward(-30)\n",
    "\n",
    "    t.right(120)\n",
    "    t.forward(30)\n",
    "    t.forward(-30)\n",
    "\n",
    "    t.goto(0,0)\n",
    "    t.left(120)\n",
    "turtle.done()\n"
   ]
  },
  {
   "cell_type": "markdown",
   "id": "87a08e03",
   "metadata": {},
   "source": [
    "## 터틀 그래픽과 반복을 이용해서 싸인 그래프"
   ]
  },
  {
   "cell_type": "code",
   "execution_count": 6,
   "id": "9b055ddd",
   "metadata": {},
   "outputs": [],
   "source": [
    "import math\n",
    "import turtle\n",
    "\n",
    "t= turtle.Turtle()\n",
    "t.shape(\"turtle\")\n",
    "t.goto(0,0)\n",
    "for i in range(360):\n",
    "    t.goto(i, 200 * math.sin(3.14*i/180))\n",
    "    \n",
    "turtle.done()"
   ]
  },
  {
   "cell_type": "code",
   "execution_count": null,
   "id": "063fe251",
   "metadata": {},
   "outputs": [],
   "source": []
  },
  {
   "cell_type": "code",
   "execution_count": null,
   "id": "070fcdfa",
   "metadata": {},
   "outputs": [],
   "source": []
  }
 ],
 "metadata": {
  "kernelspec": {
   "display_name": "Python 3 (ipykernel)",
   "language": "python",
   "name": "python3"
  },
  "language_info": {
   "codemirror_mode": {
    "name": "ipython",
    "version": 3
   },
   "file_extension": ".py",
   "mimetype": "text/x-python",
   "name": "python",
   "nbconvert_exporter": "python",
   "pygments_lexer": "ipython3",
   "version": "3.8.2"
  },
  "toc": {
   "base_numbering": 1,
   "nav_menu": {},
   "number_sections": true,
   "sideBar": true,
   "skip_h1_title": false,
   "title_cell": "Table of Contents",
   "title_sidebar": "Contents",
   "toc_cell": false,
   "toc_position": {},
   "toc_section_display": true,
   "toc_window_display": false
  }
 },
 "nbformat": 4,
 "nbformat_minor": 5
}
