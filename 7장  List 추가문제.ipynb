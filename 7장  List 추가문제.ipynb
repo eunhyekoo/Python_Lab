{
 "cells": [
  {
   "cell_type": "markdown",
   "id": "2fee7e09",
   "metadata": {},
   "source": [
    "# 7장 추가 연습문제"
   ]
  },
  {
   "cell_type": "markdown",
   "id": "4af286f7",
   "metadata": {},
   "source": [
    "## 1부터 100까지 난수 10개를 생성하여 리스트 채우는 반복 루프"
   ]
  },
  {
   "cell_type": "code",
   "execution_count": 5,
   "id": "22a91e29",
   "metadata": {},
   "outputs": [
    {
     "name": "stdout",
     "output_type": "stream",
     "text": [
      "[88, 86, 44, 95, 81, 11, 94, 28, 45, 13, 61]\n"
     ]
    }
   ],
   "source": [
    "# 7장 추가 연습문제import random\n",
    "\n",
    "list = []\n",
    "rand = random.randrange(1,101)\n",
    "for i in range(0,11) :\n",
    "    rand = random.randrange(1,101)\n",
    "    list.append(rand)\n",
    "\n",
    "print(list)\n",
    "    \n",
    "    "
   ]
  },
  {
   "cell_type": "markdown",
   "id": "5bf06559",
   "metadata": {},
   "source": [
    "## 리스트에 저장된 값을 별표로 출력"
   ]
  },
  {
   "cell_type": "code",
   "execution_count": 13,
   "id": "095c520a",
   "metadata": {},
   "outputs": [
    {
     "name": "stdout",
     "output_type": "stream",
     "text": [
      "20   ********************\n",
      "1   *\n",
      "12   ************\n",
      "9   *********\n",
      "18   ******************\n"
     ]
    }
   ],
   "source": [
    "list = [20,1,12,9,18]\n",
    "\n",
    "\n",
    "for i in range(0,len(list)):\n",
    "    star = \"\"\n",
    "    for j in range(0,list[i]):\n",
    "        star = star + \"*\"\n",
    "    print(list[i], \" \" , star)"
   ]
  },
  {
   "cell_type": "markdown",
   "id": "3e040f8d",
   "metadata": {},
   "source": [
    "## 색상을 리스트에 저장하고, 하나씩 꺼내서 거북이 속이 채워진 사각형을 그리는 프로그램"
   ]
  },
  {
   "cell_type": "code",
   "execution_count": 1,
   "id": "e96baf2a",
   "metadata": {},
   "outputs": [],
   "source": [
    "import turtle\n",
    "import random\n",
    "\n",
    "t = turtle.Turtle()\n",
    "t.shape(\"turtle\")\n",
    "\n",
    "list = [\"yellow\", \"blue\",\"red\",\"green\"]\n",
    "\n",
    "def draw() : \n",
    "    for i in list: \n",
    "        x = random.randrange(-300,300)\n",
    "        y = random.randrange(-300,300)\n",
    "        draw_square(x,y,i)\n",
    "        \n",
    "        \n",
    "def draw_square(x,y,c):\n",
    "    t.penup()\n",
    "    t.goto(x,y)\n",
    "    t.pendown()\n",
    "    \n",
    "    t.color(c)\n",
    "    t.begin_fill()\n",
    "        \n",
    "    for i in range(4):       \n",
    "        t.forward(100)\n",
    "        t.left(90)\n",
    "    t.end_fill()\n",
    "\n",
    "\n",
    "draw()\n",
    "\n",
    "turtle.done()"
   ]
  },
  {
   "cell_type": "markdown",
   "id": "56f43f42",
   "metadata": {},
   "source": [
    "##  색상을 리스트에 저장해서 색깔에 맞는 별을 랜덤한 위치에 그리는 프로그램"
   ]
  },
  {
   "cell_type": "code",
   "execution_count": 1,
   "id": "a1d9043a",
   "metadata": {},
   "outputs": [],
   "source": [
    "import turtle\n",
    "import random\n",
    "\n",
    "t = turtle.Pen()\n",
    "s = turtle.Screen()\n",
    "s.bgcolor(\"black\")\n",
    "t.speed(0)\n",
    "t.pensize(5)\n",
    "list = [\"yellow\", \"blue\",\"red\",\"green\",\"orange\"]\n",
    "\n",
    "def draw_star(color,length,x,y) :  \n",
    "   \n",
    "    t.penup()\n",
    "    t.goto(x,y)\n",
    "    t.pendown()\n",
    "    t.begin_fill()\n",
    "    \n",
    "    t.color(color)\n",
    "    for i in range(5) : \n",
    "        t.forward(length)\n",
    "        t.right(144)\n",
    "    t.end_fill()\n",
    "    \n",
    "for i in list :\n",
    "    x = random.randint(-300,300)\n",
    "    y = random.randint(-300,300)\n",
    "    length  = random.randint(0,300)\n",
    "    draw_star(i,length, x, y)\n",
    "    \n",
    "turtle.done()"
   ]
  },
  {
   "cell_type": "code",
   "execution_count": 3,
   "id": "d7a465e8",
   "metadata": {},
   "outputs": [],
   "source": []
  },
  {
   "cell_type": "code",
   "execution_count": null,
   "id": "a24810a3",
   "metadata": {},
   "outputs": [],
   "source": []
  },
  {
   "cell_type": "code",
   "execution_count": null,
   "id": "47c58806",
   "metadata": {},
   "outputs": [],
   "source": []
  }
 ],
 "metadata": {
  "kernelspec": {
   "display_name": "Python 3 (ipykernel)",
   "language": "python",
   "name": "python3"
  },
  "language_info": {
   "codemirror_mode": {
    "name": "ipython",
    "version": 3
   },
   "file_extension": ".py",
   "mimetype": "text/x-python",
   "name": "python",
   "nbconvert_exporter": "python",
   "pygments_lexer": "ipython3",
   "version": "3.8.2"
  },
  "toc": {
   "base_numbering": 1,
   "nav_menu": {},
   "number_sections": true,
   "sideBar": true,
   "skip_h1_title": false,
   "title_cell": "Table of Contents",
   "title_sidebar": "Contents",
   "toc_cell": false,
   "toc_position": {},
   "toc_section_display": true,
   "toc_window_display": false
  }
 },
 "nbformat": 4,
 "nbformat_minor": 5
}
