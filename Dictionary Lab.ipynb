{
 "cells": [
  {
   "cell_type": "markdown",
   "id": "345c66eb",
   "metadata": {},
   "source": [
    "# Dictionary"
   ]
  },
  {
   "cell_type": "code",
   "execution_count": 5,
   "id": "9d70f393",
   "metadata": {},
   "outputs": [
    {
     "name": "stdout",
     "output_type": "stream",
     "text": [
      "key: dict_keys(['이름', '연락처'])\n",
      "value : dict_values(['은혜', '010-9999-9999'])\n",
      "items: dict_items([('이름', '은혜'), ('연락처', '010-9999-9999')])\n"
     ]
    }
   ],
   "source": [
    "list = {\"이름\" : \"은혜\", \"연락처\": \"010-9999-9999\"}\n",
    "\n",
    "print('key:',list.keys())\n",
    "print('value :', list.values())\n",
    "print('items:',list.items())\n"
   ]
  },
  {
   "cell_type": "code",
   "execution_count": 5,
   "id": "751f659c",
   "metadata": {},
   "outputs": [
    {
     "name": "stdout",
     "output_type": "stream",
     "text": [
      "{'홍길동': '010-0000-0000'}\n",
      "010-0000-0000\n",
      "dict_keys(['홍길동'])\n"
     ]
    }
   ],
   "source": [
    "phone_book = {}\n",
    "phone_book[\"홍길동\"] = \"010-0000-0000\"\n",
    "print(phone_book)\n",
    "print(phone_book[\"홍길동\"])\n",
    "print(phone_book.keys())"
   ]
  },
  {
   "cell_type": "code",
   "execution_count": 20,
   "id": "8fbd2bca",
   "metadata": {},
   "outputs": [
    {
     "name": "stdout",
     "output_type": "stream",
     "text": [
      "홍길동 010-1234-5677\n",
      "이순신 000-1-1-1-1-1-\n",
      "이순신 000-1-1-1-1-1-\n",
      "홍길동 010-1234-5677\n",
      "dict_values(['010-1234-5677', '000-1-1-1-1-1-'])\n",
      "{'이순신': '000-1-1-1-1-1-'}\n"
     ]
    }
   ],
   "source": [
    "phone_book = {\"홍길동\": \"010-1234-5677\", \"이순신\":\"000-1-1-1-1-1-\"}\n",
    "\n",
    "\n",
    "for key in phone_book.keys():\n",
    "    print(key,phone_book[key])\n",
    "    \n",
    "    \n",
    "for key in sorted(phone_book.keys()):\n",
    "    print(key,phone_book[key])\n",
    "    \n",
    "\n",
    "print(phone_book.values())\n",
    "\n",
    "#키를 지우면 딕셔너리에서 키와 value가 삭제.\n",
    "del phone_book[\"홍길동\"]\n",
    "print(phone_book)"
   ]
  },
  {
   "cell_type": "code",
   "execution_count": 24,
   "id": "8843a28a",
   "metadata": {},
   "outputs": [
    {
     "name": "stdout",
     "output_type": "stream",
     "text": [
      "단어를 입력하시오 : one\n",
      "하나\n",
      "dict_items([('one', '하나'), ('two', '둘')])\n",
      "one는 한국어로 하나입니다.\n",
      "two는 한국어로 둘입니다.\n"
     ]
    }
   ],
   "source": [
    "english_dict = {}\n",
    "english_dict[\"one\"] = '하나'\n",
    "english_dict[\"two\"] = '둘'\n",
    "\n",
    "word = input(\"단어를 입력하시오 : \")\n",
    "print(english_dict[word])\n",
    "print(english_dict.items())\n",
    "\n",
    "for k,v in english_dict.items():\n",
    "    print('{}는 한국어로 {}입니다.'.format(k,v))"
   ]
  },
  {
   "cell_type": "markdown",
   "id": "4c567b3b",
   "metadata": {},
   "source": [
    "## 집합"
   ]
  },
  {
   "cell_type": "code",
   "execution_count": 10,
   "id": "474e0217",
   "metadata": {},
   "outputs": [
    {
     "name": "stdout",
     "output_type": "stream",
     "text": [
      "{10, 1, 2, 3}\n",
      "{10, 2, 3}\n"
     ]
    }
   ],
   "source": [
    "s= set()\n",
    "s = {1,2,3}\n",
    "s.add(10)\n",
    "print(s)\n",
    "\n",
    "s.discard(1)\n",
    "print(s)"
   ]
  },
  {
   "cell_type": "markdown",
   "id": "3036f4d2",
   "metadata": {},
   "source": [
    "# LAB"
   ]
  },
  {
   "cell_type": "markdown",
   "id": "c35f1d5e",
   "metadata": {},
   "source": [
    "## 가위바위보게임"
   ]
  },
  {
   "cell_type": "code",
   "execution_count": 3,
   "id": "7b48e67d",
   "metadata": {},
   "outputs": [
    {
     "name": "stdout",
     "output_type": "stream",
     "text": [
      "가위,바위,보 입력 : 보\n",
      "컴퓨터 :  가위  User: 보\n",
      "패배했습니다.\n"
     ]
    }
   ],
   "source": [
    "import random\n",
    "\n",
    "sel = ['가위','바위','보']\n",
    "state = 0\n",
    "dic = {0 :\"비겼습니다.\", 1 : \"이겼습니다.\", 2 : \"패배했습니다.\"}\n",
    "\n",
    "com = sel[random.randrange(0,3)]\n",
    "user = input(\"가위,바위,보 입력 : \")\n",
    "\n",
    "if user == com:\n",
    "    state = 0\n",
    "elif user == '가위' :\n",
    "    if com == '보' :\n",
    "        state = 1\n",
    "    else : state = 2\n",
    "        \n",
    "elif user == '바위' :\n",
    "    if com == '보' :\n",
    "        state = 2\n",
    "    else : \n",
    "        state = 1\n",
    "    \n",
    "elif user == '보' :\n",
    "    if com == '바위':\n",
    "        state =1\n",
    "    else : \n",
    "        state = 2\n",
    "\n",
    "print(\"컴퓨터 : \",com, \" User:\", user)\n",
    "print(dic[state])\n"
   ]
  },
  {
   "cell_type": "markdown",
   "id": "42f4fd61",
   "metadata": {},
   "source": [
    "## 행성까지의 여행시간은?"
   ]
  },
  {
   "cell_type": "code",
   "execution_count": 1,
   "id": "e2ae36f4",
   "metadata": {},
   "outputs": [
    {
     "name": "stdout",
     "output_type": "stream",
     "text": [
      "행성 이름 : 수성\n",
      "이동 속도 :12\n",
      "이동 시간 : 약 7641666.666666667 시간\n"
     ]
    }
   ],
   "source": [
    "import time\n",
    "space = {\"수성\": 91700000\n",
    "        ,\"금성\": 41400000\n",
    "        ,\"화성\": 78400000\n",
    "        ,\"목성\" : 628700000\n",
    "        ,\"토성\" : 1277400000\n",
    "        ,\"천왕성\":2750400000\n",
    "        ,\"해왕성\":4347400000}\n",
    "\n",
    "name = input(\"행성 이름 : \")\n",
    "fast = int(input(\"이동 속도 :\"))\n",
    "time = space[name]/fast \n",
    "print(\"이동 시간 : 약\", space[name]/fast ,\"시간\")\n",
    "\n",
    "\n",
    "year = int(time) // (365*24)\n",
    "month = int(time- (year * 365*24)) // (30*24)\n",
    "\n",
    "#거리/속력\n"
   ]
  },
  {
   "cell_type": "markdown",
   "id": "f2d9d488",
   "metadata": {},
   "source": [
    "## 튜링상 수상자 데이터 분석\n"
   ]
  },
  {
   "cell_type": "code",
   "execution_count": 12,
   "id": "554dc849",
   "metadata": {},
   "outputs": [
    {
     "name": "stdout",
     "output_type": "stream",
     "text": [
      "팀 버너스리\n",
      "리처드허밍\n",
      "데나스 리치\n",
      " \n",
      "팀 버너스리 2018\n",
      "리처드허밍 2019\n",
      "데나스 리치 2021\n"
     ]
    }
   ],
   "source": [
    "# 리스트 안에 딕셔너리를 사용해주기\n",
    "awards = [{\"이름\": \"팀 버너스리\", \"수상연도\": 2018}\n",
    "         ,{\"이름\" : \"리처드허밍\", \"수상연도\":2019}\n",
    "         ,{\"이름\" : \"데나스 리치\", \"수상연도\":2021}]\n",
    "\n",
    "\n",
    "for a in awards :\n",
    "    # a -> 딕셔너리 하나씩 읽어옴\n",
    "    print(a['이름'])\n",
    "\n",
    "\n",
    "    \n",
    "print(\" \")\n",
    "for b in awards :\n",
    "    #print(b)  딕셔너리 형태로 한줄씩 읽어옴\n",
    "    if b['수상연도'] >= 1990 :\n",
    "        print(b['이름'], b['수상연도'])\n",
    "        \n"
   ]
  },
  {
   "cell_type": "markdown",
   "id": "90af6ed7",
   "metadata": {},
   "source": [
    "## 파이썬으로 이메일 보내기"
   ]
  },
  {
   "cell_type": "code",
   "execution_count": 56,
   "id": "2995e799",
   "metadata": {},
   "outputs": [],
   "source": [
    "import smtplib\n",
    "from email.mime.text import MIMEText"
   ]
  },
  {
   "cell_type": "code",
   "execution_count": 57,
   "id": "340a02ae",
   "metadata": {},
   "outputs": [],
   "source": [
    "me = 'abc@server.kr'     # 보내는 사람 메일 주소 \n",
    "you = 'def@server.com'  # 받는 사람 메일 주소 \n",
    "contents = '12월 20일에 동창회가 있으니 참석해주시기 바랍니다.' \n",
    "\n",
    "msg = MIMEText(contents, _charset='euc-kr') \n",
    "msg['Subject'] = '동창회 모임' \n",
    "\n",
    "\n",
    "msg['From'] = me \n",
    "msg['To'] = you \n",
    "\n",
    "server = smtplib.SMTP('smtp.gmail.com', 587)\n",
    "server.ehlo()\n",
    "server.starttls()\n",
    "server.ehlo()\n",
    "\n",
    " \n",
    "\n",
    "server.login(\"자신의 아이디\", \"패스워드\")\n",
    "\n",
    "server.sendmail(me, you, msg.as_string()) \n",
    "server.quit()\n"
   ]
  },
  {
   "cell_type": "code",
   "execution_count": null,
   "id": "412feb65",
   "metadata": {},
   "outputs": [],
   "source": []
  }
 ],
 "metadata": {
  "kernelspec": {
   "display_name": "Python 3 (ipykernel)",
   "language": "python",
   "name": "python3"
  },
  "language_info": {
   "codemirror_mode": {
    "name": "ipython",
    "version": 3
   },
   "file_extension": ".py",
   "mimetype": "text/x-python",
   "name": "python",
   "nbconvert_exporter": "python",
   "pygments_lexer": "ipython3",
   "version": "3.8.2"
  },
  "toc": {
   "base_numbering": 1,
   "nav_menu": {},
   "number_sections": true,
   "sideBar": true,
   "skip_h1_title": false,
   "title_cell": "Table of Contents",
   "title_sidebar": "Contents",
   "toc_cell": false,
   "toc_position": {},
   "toc_section_display": true,
   "toc_window_display": false
  }
 },
 "nbformat": 4,
 "nbformat_minor": 5
}
