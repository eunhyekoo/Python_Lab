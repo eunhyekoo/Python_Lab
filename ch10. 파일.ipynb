{
 "cells": [
  {
   "cell_type": "code",
   "execution_count": 1,
   "id": "5ec5a777",
   "metadata": {},
   "outputs": [
    {
     "name": "stdout",
     "output_type": "stream",
     "text": [
      "홍길동 010-29999-4444\n",
      "\n"
     ]
    }
   ],
   "source": [
    "infile = open(\"./phones.txt\",\"r\")\n",
    "#lines = infile.read()\n",
    "#line1 = infile.readlines()   #한줄로 가져와짐\n",
    "line2 = infile.readline()\n",
    "#print(lines)\n",
    "\n",
    "#print(line1)\n",
    "print(line2)\n",
    "\n",
    "infile.close()"
   ]
  },
  {
   "cell_type": "code",
   "execution_count": 3,
   "id": "77d224fd",
   "metadata": {},
   "outputs": [
    {
     "name": "stdout",
     "output_type": "stream",
     "text": [
      "홍길동 010-29999-4444\n",
      "김아무개 010-9999-2233\n",
      "솔직한  010-2222-3333\n"
     ]
    }
   ],
   "source": [
    "infile = open(\"./phones.txt\", \"r\")\n",
    "line = infile.readline().rstrip()\n",
    "#String의 오른쪽에서 제거합니다.\n",
    "\n",
    "\n",
    "while line != \"\":\n",
    "    print(line)\n",
    "    line = infile.readline().rstrip()\n",
    "\n",
    "infile.close()"
   ]
  },
  {
   "cell_type": "code",
   "execution_count": 28,
   "id": "54178a5e",
   "metadata": {},
   "outputs": [
    {
     "data": {
      "text/plain": [
       "[\"ALL's\", 'well', 'that', 'ends', 'well']"
      ]
     },
     "execution_count": 28,
     "metadata": {},
     "output_type": "execute_result"
    }
   ],
   "source": [
    "outfile = open(\"./numbers.txt\",\"w\")\n",
    "outfile.write(\"고마해라 마이묵었다 아이가\\n\")\n",
    "outfile.close()\n",
    "\n",
    "a = \"ALL's well that ends well\"\n",
    "a.split()"
   ]
  },
  {
   "cell_type": "code",
   "execution_count": 32,
   "id": "229fe080",
   "metadata": {},
   "outputs": [
    {
     "name": "stdout",
     "output_type": "stream",
     "text": [
      "['수학', '90']\n",
      "['영어', '10']\n",
      "['국어', '200']\n"
     ]
    }
   ],
   "source": [
    "import csv\n",
    "\n",
    "f = open('./test.csv','r',encoding = 'utf-8')\n",
    "data = csv.reader(f)\n",
    "\n",
    "for line in data:\n",
    "    print(line)\n",
    "    \n",
    "f.close()"
   ]
  },
  {
   "cell_type": "markdown",
   "id": "2d7904e5",
   "metadata": {},
   "source": [
    "# 파일 복사\n"
   ]
  },
  {
   "cell_type": "code",
   "execution_count": 5,
   "id": "a1425124",
   "metadata": {},
   "outputs": [
    {
     "data": {
      "text/plain": [
       "'./copy2.txt'"
      ]
     },
     "execution_count": 5,
     "metadata": {},
     "output_type": "execute_result"
    }
   ],
   "source": [
    "import shutil\n",
    "\n",
    "src = './copytest.txt'\n",
    "dst = './copyresult.txt'\n",
    "\n",
    "shutil.copy(src,dst)\n",
    "shutil.copyfile(src,\"./copyfile.txt\") \n",
    "shutil.copy2(src,\"./copy2.txt\") # 작성한 날짜도 복사"
   ]
  },
  {
   "cell_type": "markdown",
   "id": "60fb9ba0",
   "metadata": {},
   "source": [
    "# 연설문 데이터 분석"
   ]
  },
  {
   "cell_type": "code",
   "execution_count": 1,
   "id": "a16c7645",
   "metadata": {},
   "outputs": [],
   "source": [
    "infile1 = open(\"./speach.txt\", \"r\")\n",
    "outfile = open(\"./speach_result.txt\",\"w\")\n",
    "line = infile1.readline()\n",
    "line = line.lower() # 소문자 처리\n",
    "line = line.replace(\",\",\"\") # 콤마는 공백으로 대체\n",
    "list = line.split()\n",
    "setting = set(list)\n",
    "cnt = 0\n",
    "text = \"\"\n",
    "\n",
    "for i in setting:\n",
    "    cnt = 0\n",
    "   \n",
    "    for j in list:\n",
    "        if i == j :\n",
    "            cnt = cnt+1\n",
    "        \n",
    "    text = text + \"\\n\"+ i +\"개수는\"+ str(cnt)\n",
    "    \n",
    "\n",
    "    #print(i,\"개수는\", cnt)\n",
    "\n",
    "outfile.write(text)        \n",
    "\n",
    "\n",
    "infile1.close()\n",
    "outfile.close()"
   ]
  },
  {
   "cell_type": "code",
   "execution_count": 2,
   "id": "4549d130",
   "metadata": {},
   "outputs": [
    {
     "name": "stdout",
     "output_type": "stream",
     "text": [
      "            년월   지점  강수량(mm)\n",
      "0   2020-01-01  108     60.5\n",
      "1   2020-02-01  108     53.1\n",
      "2   2020-03-01  108     16.3\n",
      "3   2020-04-01  108     16.9\n",
      "4   2020-05-01  108    112.4\n",
      "5   2020-06-01  108    139.6\n",
      "6   2020-07-01  108    270.4\n",
      "7   2020-08-01  108    675.7\n",
      "8   2020-09-01  108    181.5\n",
      "9   2020-10-01  108      0.0\n",
      "10  2020-11-01  108    120.1\n",
      "11  2020-12-01  108      4.6\n",
      "12  2021-01-01  108     18.9\n",
      "13  2021-02-01  108      7.1\n",
      "14  2021-03-01  108    110.9\n",
      "15  2021-04-01  108    124.1\n",
      "16  2021-05-01  108    183.1\n",
      "17  2021-06-01  108    104.6\n",
      "18  2021-07-01  108    168.3\n",
      "19  2021-08-01  108    211.2\n",
      "20  2021-09-01  108    131.0\n",
      "21  2021-10-01  108     57.0\n",
      "22  2021-11-01  108     28.0\n"
     ]
    }
   ],
   "source": [
    "import csv\n",
    "import pandas as pd\n",
    "\n",
    "df = pd.read_csv('./rn_20211117162027.csv', encoding='cp949')\n",
    "print(df)"
   ]
  },
  {
   "cell_type": "code",
   "execution_count": 12,
   "id": "5c8a6325",
   "metadata": {},
   "outputs": [
    {
     "name": "stdout",
     "output_type": "stream",
     "text": [
      "['수학', '90']\n",
      "['영어', '10']\n",
      "['국어', '200']\n"
     ]
    }
   ],
   "source": [
    "f = open('./test.csv','r')\n",
    "data = csv.reader(f)\n",
    "\n",
    "for line in data:\n",
    "    print(line)\n",
    "    \n",
    "f.close()"
   ]
  },
  {
   "cell_type": "code",
   "execution_count": 92,
   "id": "ec61e4e8",
   "metadata": {},
   "outputs": [
    {
     "name": "stdout",
     "output_type": "stream",
     "text": [
      "서울의 총 강수량 : 2795.2999999999997\n",
      "서울의 평균 강수량 : 121.53478260869564\n"
     ]
    }
   ],
   "source": [
    "f = open('./rn_20211117162027.csv','r',encoding = 'cp949')\n",
    "data = csv.reader(f)\n",
    "list = []\n",
    "sumrain = 0\n",
    "header = next(data)\n",
    "cnt = 0\n",
    "\n",
    "for line in data:\n",
    "    #print(line)\n",
    "    cnt = cnt +1\n",
    "    if line != header:\n",
    "        sumrain = sumrain + float(line[2])\n",
    "\n",
    "print(\"서울의 총 강수량 : \"+str(sumrain))\n",
    "print(\"서울의 평균 강수량 : \" + str(sumrain/cnt))\n",
    "f.close()"
   ]
  },
  {
   "cell_type": "markdown",
   "id": "353d2925",
   "metadata": {},
   "source": [
    "# 행맨"
   ]
  },
  {
   "cell_type": "code",
   "execution_count": 3,
   "id": "32d1de80",
   "metadata": {},
   "outputs": [
    {
     "name": "stdout",
     "output_type": "stream",
     "text": [
      "단어를 추측하세요 : h\n",
      "['h', '', '', '', '', '', '']\n",
      "단어를 추측하세요 : a\n",
      "['h', 'a', '', '', '', 'a', '']\n",
      "단어를 추측하세요 : n\n",
      "['h', 'a', 'n', '', '', 'a', 'n']\n",
      "단어를 추측하세요 : g\n",
      "['h', 'a', 'n', 'g', '', 'a', 'n']\n",
      "단어를 추측하세요 : m\n",
      "['h', 'a', 'n', 'g', 'm', 'a', 'n']\n",
      "성공입니다.\n"
     ]
    }
   ],
   "source": [
    "list = ['h','a','n','g','m','a','n']\n",
    "answer = ['','','','','','','']\n",
    "tmp = 1\n",
    "while(tmp<len(list)-1):\n",
    "    a = input(\"단어를 추측하세요 : \")\n",
    "    for i in range(0,len(list)):\n",
    "        if a == list[i]:\n",
    "            answer[i] = a\n",
    "\n",
    "    print(answer)\n",
    "    tmp = tmp+1\n",
    "    if tmp == 6 :\n",
    "        if list == answer :\n",
    "            print(\"성공입니다.\")\n",
    "            break\n",
    "        else:\n",
    "            print(\"실패입니다.\")\n",
    "            break"
   ]
  }
 ],
 "metadata": {
  "kernelspec": {
   "display_name": "Python 3 (ipykernel)",
   "language": "python",
   "name": "python3"
  },
  "language_info": {
   "codemirror_mode": {
    "name": "ipython",
    "version": 3
   },
   "file_extension": ".py",
   "mimetype": "text/x-python",
   "name": "python",
   "nbconvert_exporter": "python",
   "pygments_lexer": "ipython3",
   "version": "3.8.2"
  },
  "toc": {
   "base_numbering": 1,
   "nav_menu": {},
   "number_sections": true,
   "sideBar": true,
   "skip_h1_title": false,
   "title_cell": "Table of Contents",
   "title_sidebar": "Contents",
   "toc_cell": false,
   "toc_position": {},
   "toc_section_display": true,
   "toc_window_display": false
  }
 },
 "nbformat": 4,
 "nbformat_minor": 5
}
