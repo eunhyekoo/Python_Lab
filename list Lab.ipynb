{
 "cells": [
  {
   "cell_type": "markdown",
   "id": "896f247a",
   "metadata": {},
   "source": [
    "리스트는 같은 자료형끼리 사용"
   ]
  },
  {
   "cell_type": "code",
   "execution_count": 11,
   "id": "151f6df4",
   "metadata": {},
   "outputs": [
    {
     "name": "stdout",
     "output_type": "stream",
     "text": [
      "4\n"
     ]
    }
   ],
   "source": [
    "slist = ['영어','수학','사회','과학']\n",
    "print(len(slist))\n",
    "slist."
   ]
  },
  {
   "cell_type": "code",
   "execution_count": 10,
   "id": "5f598782",
   "metadata": {},
   "outputs": [
    {
     "name": "stdout",
     "output_type": "stream",
     "text": [
      "['얼음', '대소문자 상관없나', 'test']\n",
      "얼음\n"
     ]
    }
   ],
   "source": [
    "cart = []\n",
    "cart.append(\"얼음\")\n",
    "cart.append('대소문자 상관없나')\n",
    "cart.append(\"test\")\n",
    "print(cart)\n",
    "print(cart[0])"
   ]
  },
  {
   "cell_type": "code",
   "execution_count": 13,
   "id": "d0fbc7e4",
   "metadata": {},
   "outputs": [
    {
     "name": "stdout",
     "output_type": "stream",
     "text": [
      "['A', 'B', 'c', 'D', 'e']\n",
      "['c']\n",
      "['A', '추가한다', 'c', 'D', 'e']\n",
      "['A', '추가한다', 'D', 'e']\n",
      "e\n"
     ]
    }
   ],
   "source": [
    "letters = ['A','B','c','D','e']\n",
    "print(letters[:5])\n",
    "print(letters[2:3])\n",
    "\n",
    "copy = letters[:]\n",
    "copy[1] = '추가한다'\n",
    "print(copy)\n",
    "\n",
    "\n",
    "#del 과 pop를 사용해서 항목을 삭제\n",
    "del copy[2]  \n",
    "item = letters.pop()\n",
    "\n",
    "print(copy)\n",
    "print(item)"
   ]
  },
  {
   "cell_type": "code",
   "execution_count": 21,
   "id": "bca2551b",
   "metadata": {},
   "outputs": [
    {
     "name": "stdout",
     "output_type": "stream",
     "text": [
      "2\n",
      "['사과', '세제', '치약', '화장지']\n",
      "['화장지', '치약', '세제', '사과']\n"
     ]
    }
   ],
   "source": [
    "cart = ['사과','세제','화장지','치약']\n",
    "print(cart.index(\"화장지\"))\n",
    "\n",
    "cart2 = [\"사과\",\"세제\",\"화장지\",\"치약\"]\n",
    "\n",
    "cart2.sort()\n",
    "cart.sort(reverse= True)\n",
    "\n",
    "print(cart2)\n",
    "print(cart)"
   ]
  },
  {
   "cell_type": "code",
   "execution_count": 22,
   "id": "3996dc5f",
   "metadata": {},
   "outputs": [
    {
     "name": "stdout",
     "output_type": "stream",
     "text": [
      "20\n"
     ]
    }
   ],
   "source": [
    "num = [[10,20,30],[40,50,60]]\n",
    "print(num[0][1])"
   ]
  },
  {
   "cell_type": "code",
   "execution_count": 23,
   "id": "5840a19f",
   "metadata": {},
   "outputs": [
    {
     "name": "stdout",
     "output_type": "stream",
     "text": [
      "i = 99\n",
      "i = 88\n",
      "i = 77\n"
     ]
    }
   ],
   "source": [
    "for i in [99,88,77]:\n",
    "    print(\"i =\",i)"
   ]
  },
  {
   "cell_type": "code",
   "execution_count": 2,
   "id": "09941a74",
   "metadata": {},
   "outputs": [
    {
     "name": "stdout",
     "output_type": "stream",
     "text": [
      "영웅들의 이름을 입력하시오 : 구\n",
      "영웅들의 이름을 입력하시오 : 은\n",
      "영웅들의 이름을 입력하시오 : 혜\n",
      "영웅들의 이름을 입력하시오 : 짱\n",
      "영웅들의 이름을 입력하시오 : 뿅\n",
      "구 은 혜 짱 뿅 "
     ]
    }
   ],
   "source": [
    "heroes = []\n",
    "\n",
    "for i in range(5):\n",
    "    name = input(\"영웅들의 이름을 입력하시오 : \")\n",
    "    heroes.append(name)\n",
    "    \n",
    "for i in heroes :\n",
    "    print(i,end = \" \")"
   ]
  },
  {
   "cell_type": "markdown",
   "id": "60fbcec4",
   "metadata": {},
   "source": [
    "## LAB 시작"
   ]
  },
  {
   "cell_type": "markdown",
   "id": "2c8b109a",
   "metadata": {},
   "source": [
    "### 주기율표"
   ]
  },
  {
   "cell_type": "code",
   "execution_count": 3,
   "id": "4aaf0fc4",
   "metadata": {},
   "outputs": [
    {
     "name": "stdout",
     "output_type": "stream",
     "text": [
      "주기율표 구절을 입력하시오 : e\n",
      "주기율표 구절을 입력하시오 : e\n",
      "주기율표 구절을 입력하시오 : r\n",
      "주기율표 구절을 입력하시오 : e\n",
      "<built-in method count of list object at 0x7f9ca8166900>\n"
     ]
    }
   ],
   "source": [
    "lists = []\n",
    "\n",
    "for i in range(4) : \n",
    "    sent = input(\"주기율표 구절을 입력하시오 : \")\n",
    "    lists.append(sent)\n",
    "    \n",
    "print(lists.count)"
   ]
  },
  {
   "cell_type": "markdown",
   "id": "cdd78631",
   "metadata": {},
   "source": [
    "### 오늘의 명언"
   ]
  },
  {
   "cell_type": "code",
   "execution_count": 1,
   "id": "412a2c14",
   "metadata": {},
   "outputs": [
    {
     "name": "stdout",
     "output_type": "stream",
     "text": [
      "#######################\n",
      "#    오늘의 명언         #\n",
      "#######################\n",
      "사람은 사랑할때 누구나 시인이 된다\n"
     ]
    }
   ],
   "source": [
    "import random\n",
    "\n",
    "list = ['고생 없이 얻을 수 있는 진실로 귀중한것은 하나도 없다', '사람은 사랑할때 누구나 시인이 된다',' 꿈을 지녀라. 그러면 어려운 현실을 이길 수 있다.']\n",
    "a = random.randrange(0,3)\n",
    "\n",
    "print(\"#######################\")\n",
    "print(\"#    오늘의 명언         #\")\n",
    "print(\"#######################\")\n",
    "print(list[a])"
   ]
  },
  {
   "cell_type": "markdown",
   "id": "b53d5d07",
   "metadata": {},
   "source": [
    "### 스파이럴 그리기"
   ]
  },
  {
   "cell_type": "code",
   "execution_count": 2,
   "id": "10f4ad6b",
   "metadata": {},
   "outputs": [],
   "source": [
    "import turtle\n",
    "\n",
    "colors = [\"red\",\"orange\",\"yellow\",\"purple\",\"blue\",\"green\"]\n",
    "t = turtle.Turtle()\n",
    "\n",
    "turtle.bgcolor(\"white\")\n",
    "t.speed(0)\n",
    "t.width(3)\n",
    "length = 10\n",
    "\n",
    "while length < 500:\n",
    "    t.forward(length)\n",
    "    t.pencolor(colors[length%6])\n",
    "    t.right(89)\n",
    "    length = length +5\n",
    "\n",
    "turtle.done()"
   ]
  },
  {
   "cell_type": "markdown",
   "id": "857908e8",
   "metadata": {},
   "source": [
    "### 오륜기 그리기"
   ]
  },
  {
   "cell_type": "code",
   "execution_count": 1,
   "id": "a9a5cb39",
   "metadata": {},
   "outputs": [],
   "source": [
    "import turtle\n",
    "t = turtle.Pen()\n",
    "t.pensize(10)\n",
    "t.speed(0)\n",
    "\n",
    "colors = [\"blue\",\"yellow\",\"black\",\"green\",\"red\"]\n",
    "\n",
    "\n",
    "def down(color):\n",
    "    t.up()\n",
    "    t.right(90)\n",
    "    t.forward(120)\n",
    "    t.left(90)\n",
    "    t.forward(120)\n",
    "    t.down()\n",
    "    t.pencolor(color)\n",
    "    t.circle(100)\n",
    "\n",
    "def up(color):\n",
    "    t.up()\n",
    "    t.left(90)\n",
    "    t.forward(120)\n",
    "    t.right(90)\n",
    "    t.forward(120)\n",
    "    t.down()\n",
    "    t.pencolor(color)\n",
    "    t.circle(100)    \n",
    "    \n",
    "    \n",
    "for i in colors:\n",
    "    if i == 'blue' or i =='black' or i == 'red':\n",
    "        up(i)\n",
    "    else:\n",
    "        down(i)\n",
    "        \n",
    "turtle.done()\n",
    "        "
   ]
  },
  {
   "cell_type": "code",
   "execution_count": 1,
   "id": "167338dd",
   "metadata": {},
   "outputs": [],
   "source": [
    "import turtle as t\n",
    " \n",
    "n = 60    # 원을 60번 그림\n",
    "t.shape('turtle')\n",
    "t.speed('fastest')      # 거북이 속도를 가장 빠르게 설정\n",
    "for i in range(n):\n",
    "    t.circle(120)       # 반지름이 120인 원을 그림\n",
    "    t.right(360 / n) "
   ]
  },
  {
   "cell_type": "markdown",
   "id": "eb7ea42c",
   "metadata": {},
   "source": [
    "### 습도 구하기"
   ]
  },
  {
   "cell_type": "code",
   "execution_count": 12,
   "id": "aafeb1fd",
   "metadata": {},
   "outputs": [
    {
     "name": "stdout",
     "output_type": "stream",
     "text": [
      "현재 수증기량 입력 : 9.4\n",
      "현재 온도 입력 : 20\n"
     ]
    }
   ],
   "source": [
    "temp_list = [0,10,20,30]\n",
    "vapor_list = [4,8,9,4,3]\n",
    "\n",
    "vapor = float(input(\"현재 수증기량 입력 : \"))\n",
    "temp = int(input(\"현재 온도 입력 : \"))\n",
    "\n"
   ]
  },
  {
   "cell_type": "code",
   "execution_count": null,
   "id": "2b28d6e3",
   "metadata": {},
   "outputs": [],
   "source": [
    "\n",
    "    "
   ]
  }
 ],
 "metadata": {
  "kernelspec": {
   "display_name": "Python 3 (ipykernel)",
   "language": "python",
   "name": "python3"
  },
  "language_info": {
   "codemirror_mode": {
    "name": "ipython",
    "version": 3
   },
   "file_extension": ".py",
   "mimetype": "text/x-python",
   "name": "python",
   "nbconvert_exporter": "python",
   "pygments_lexer": "ipython3",
   "version": "3.8.2"
  },
  "toc": {
   "base_numbering": 1,
   "nav_menu": {},
   "number_sections": true,
   "sideBar": true,
   "skip_h1_title": false,
   "title_cell": "Table of Contents",
   "title_sidebar": "Contents",
   "toc_cell": false,
   "toc_position": {},
   "toc_section_display": true,
   "toc_window_display": false
  }
 },
 "nbformat": 4,
 "nbformat_minor": 5
}
