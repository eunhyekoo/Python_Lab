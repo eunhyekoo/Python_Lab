{
 "cells": [
  {
   "cell_type": "markdown",
   "id": "1a0f0b02",
   "metadata": {},
   "source": [
    "# 이차함수 그래프 만들기"
   ]
  },
  {
   "cell_type": "code",
   "execution_count": 4,
   "id": "63e739d9",
   "metadata": {},
   "outputs": [],
   "source": [
    "import turtle\n",
    "\n",
    "t= turtle.Turtle()\n",
    "t.shape(\"turtle\")\n",
    "\n",
    "def func(x):\n",
    "    return x**2+1\n",
    "\n",
    "def drawgraph():\n",
    "    t.goto(0,200)\n",
    "    t.goto(0,0)\n",
    "    t.goto(200,0)\n",
    "    t.goto(0,0)\n",
    "\n",
    "    for i in range(150):\n",
    "        t.goto(i,0.01*func(i))\n",
    "\n",
    "\n",
    "        \n",
    "drawgraph()\n",
    "    \n",
    "\n"
   ]
  },
  {
   "cell_type": "markdown",
   "id": "9f6ce7fa",
   "metadata": {},
   "source": [
    "# 덧셈, 뺄셈, 곱셈, 나눗셈을 수행하는 함수 작성"
   ]
  },
  {
   "cell_type": "code",
   "execution_count": 6,
   "id": "6e73392c",
   "metadata": {},
   "outputs": [
    {
     "name": "stdout",
     "output_type": "stream",
     "text": [
      "x : 6\n",
      "y: 7\n",
      "6 + 7 =  13\n",
      "6 - 7 =  -1\n",
      "6 * 7 =  42\n",
      "6 / 7 =  0.8571428571428571\n"
     ]
    }
   ],
   "source": [
    "def plus(x,y):\n",
    "    return x+y\n",
    "def minus(x,y):\n",
    "    return x-y\n",
    "def multi(x,y):\n",
    "    return x*y\n",
    "def div(x,y):\n",
    "    return x/y\n",
    "\n",
    "x = int(input(\"x : \"))\n",
    "y = int(input(\"y: \"))\n",
    "\n",
    "print(x ,\"+\",y,\"= \", plus(x,y))\n",
    "print(x ,\"-\",y,\"= \", minus(x,y))\n",
    "print(x ,\"*\",y,\"= \", multi(x,y))\n",
    "print(x ,\"/\",y,\"= \", div(x,y))"
   ]
  },
  {
   "cell_type": "markdown",
   "id": "e2e5ac4a",
   "metadata": {},
   "source": [
    "# 정수 소수 판별"
   ]
  },
  {
   "cell_type": "code",
   "execution_count": 24,
   "id": "3229a50c",
   "metadata": {},
   "outputs": [
    {
     "name": "stdout",
     "output_type": "stream",
     "text": [
      "2 3 5 7 9 11 13 15 17 19 21 23 25 27 29 31 33 35 37 39 41 43 45 47 49 51 53 55 57 59 61 63 65 67 69 71 73 75 77 79 81 83 85 87 89 91 93 95 97 99 "
     ]
    }
   ],
   "source": [
    "\n",
    "def testPrint(n): \n",
    "    if n == 2:\n",
    "        return True\n",
    "    for i in range(2,n):\n",
    "        if n%i == 0:\n",
    "            return False\n",
    "        else:\n",
    "            return True\n",
    "            \n",
    "    \n",
    "            \n",
    "for i in range(1,101):\n",
    "    if testPrint(i) == True:\n",
    "        print(i, end = ' ')\n",
    "    "
   ]
  },
  {
   "cell_type": "code",
   "execution_count": null,
   "id": "33814954",
   "metadata": {},
   "outputs": [],
   "source": []
  }
 ],
 "metadata": {
  "kernelspec": {
   "display_name": "Python 3 (ipykernel)",
   "language": "python",
   "name": "python3"
  },
  "language_info": {
   "codemirror_mode": {
    "name": "ipython",
    "version": 3
   },
   "file_extension": ".py",
   "mimetype": "text/x-python",
   "name": "python",
   "nbconvert_exporter": "python",
   "pygments_lexer": "ipython3",
   "version": "3.8.2"
  },
  "toc": {
   "base_numbering": 1,
   "nav_menu": {},
   "number_sections": true,
   "sideBar": true,
   "skip_h1_title": false,
   "title_cell": "Table of Contents",
   "title_sidebar": "Contents",
   "toc_cell": false,
   "toc_position": {},
   "toc_section_display": true,
   "toc_window_display": false
  }
 },
 "nbformat": 4,
 "nbformat_minor": 5
}
