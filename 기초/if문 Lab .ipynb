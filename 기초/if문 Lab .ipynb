{
 "cells": [
  {
   "cell_type": "markdown",
   "id": "87dc237b",
   "metadata": {},
   "source": [
    "# 나이 입력\n"
   ]
  },
  {
   "cell_type": "code",
   "execution_count": null,
   "id": "5716e877",
   "metadata": {},
   "outputs": [],
   "source": [
    "age = int(input(\"나이를 입력하시오:\"))\n",
    "\n",
    "if age >= 15:\n",
    "    print(\"영화를 관람할 수 있습니다.\")\n",
    "else:\n",
    "    print(\"영화를 관람할 수 없습니다.\")"
   ]
  },
  {
   "cell_type": "markdown",
   "id": "7b919ef0",
   "metadata": {},
   "source": [
    "# 정수 판별"
   ]
  },
  {
   "cell_type": "code",
   "execution_count": null,
   "id": "f9ddb00c",
   "metadata": {},
   "outputs": [],
   "source": [
    "num = int(input(\"정수를 입력하시오:\"))\n",
    "if num%2 == 0:\n",
    "    print(\"짝수입니다\")\n",
    "else :\n",
    "    print(\"홀수입니다.\")"
   ]
  },
  {
   "cell_type": "code",
   "execution_count": null,
   "id": "bdc77e20",
   "metadata": {},
   "outputs": [],
   "source": [
    "num = int(input(\"정수를 입력하시오:\"))\n",
    "if num>0:\n",
    "    print(\"양수입니다.\")\n",
    "elif num ==0:\n",
    "    print(\"0입니다.\")\n",
    "else:\n",
    "    print(\"음수입니다.\")"
   ]
  },
  {
   "cell_type": "markdown",
   "id": "cb1969d7",
   "metadata": {},
   "source": [
    " # 직각삼각형 구하기"
   ]
  },
  {
   "cell_type": "code",
   "execution_count": null,
   "id": "b6b71855",
   "metadata": {},
   "outputs": [],
   "source": [
    "a = int(input(\"변 a의 길이 : \"))\n",
    "b = int(input(\"변 b의 길이:\"))\n",
    "c = int(input(\"변 c의 길이 : \"))\n",
    "\n",
    "tmp = a**2+b**2\n",
    "if c**2 ==tmp:\n",
    "    print(\"직각삼각형입니다.\")\n",
    "else :\n",
    "    print(\"직각삼각형이 아닙니다.\")"
   ]
  },
  {
   "cell_type": "markdown",
   "id": "32427d6e",
   "metadata": {},
   "source": [
    "<div class=\"girk\">\n",
    "<span class=\"mark\">2일차 과제</span></div><i class=\"fa fa-lightbulb-o \"></i>"
   ]
  },
  {
   "cell_type": "markdown",
   "id": "1d2ed230",
   "metadata": {},
   "source": [
    "# 정수 종류를 판별하는 스마트 터틀"
   ]
  },
  {
   "cell_type": "code",
   "execution_count": null,
   "id": "5dcc0817",
   "metadata": {},
   "outputs": [],
   "source": [
    "import turtle \n",
    "\n",
    "t = turtle.Turtle()\n",
    "t.shape(\"turtle\")\n",
    "num = int(input(\"숫자를 입력하시오 :\"))\n",
    "\n",
    "t.penup()\n",
    "t.goto(100,100)\n",
    "t.write(\"입력된 정수는 양의 정수입니다.\")\n",
    "t.goto(100,0)\n",
    "t.write(\"입력된 정수는 0 입니다.\")\n",
    "t.goto(100,-100)\n",
    "t.write(\"입력된 정수는 음의 정수입니다.\")\n",
    "\n",
    "t.goto(0,0)\n",
    "t.pendown()\n",
    "\n",
    "if num >0 :\n",
    "\n",
    "    t.goto(100,100)\n",
    "\n",
    "\n",
    "elif num==0:\n",
    "  \n",
    "    t.goto(100,0)\n",
    "\n",
    "\n",
    "else :\n",
    "   \n",
    "    t.goto(100,-100)\n",
    "\n",
    "\n",
    "turtle.done()\n",
    "  \n",
    "  "
   ]
  },
  {
   "cell_type": "markdown",
   "id": "aabd3b6d",
   "metadata": {},
   "source": [
    "# 주민등록번호 뒷자리 의미"
   ]
  },
  {
   "cell_type": "code",
   "execution_count": 4,
   "id": "9b786a53",
   "metadata": {},
   "outputs": [
    {
     "name": "stdout",
     "output_type": "stream",
     "text": [
      "주민등록번호의 성별 정보 번호를 생성합니다.\n",
      "생성번호 :  2\n",
      "여성입니다.\n",
      "프로그램을 종료합니다.\n"
     ]
    }
   ],
   "source": [
    "import random\n",
    "\n",
    "print(\"주민등록번호의 성별 정보 번호를 생성합니다.\")\n",
    "num = random.randrange(1,5)\n",
    "print(\"생성번호 : \",num)\n",
    "\n",
    "if num == 1 or num == 3 :\n",
    "    print(\"남성입니다.\")\n",
    "    print(\"프로그램을 종료합니다.\")\n",
    "\n",
    "elif num == 2 or num == 4 :\n",
    "    print(\"여성입니다.\")\n",
    "    print(\"프로그램을 종료합니다.\")\n",
    "    \n",
    "    "
   ]
  },
  {
   "cell_type": "markdown",
   "id": "d2f6bcbc",
   "metadata": {},
   "source": [
    "# 동전 던지기 게임\n"
   ]
  },
  {
   "cell_type": "code",
   "execution_count": 1,
   "id": "7699eac9",
   "metadata": {},
   "outputs": [
    {
     "data": {
      "text/plain": [
       "'/Users/gueunhye/0.Python_ehkoo/2일차'"
      ]
     },
     "execution_count": 1,
     "metadata": {},
     "output_type": "execute_result"
    }
   ],
   "source": [
    "import os\n",
    "os.getcwd()"
   ]
  },
  {
   "cell_type": "code",
   "execution_count": 1,
   "id": "1c59c157",
   "metadata": {},
   "outputs": [],
   "source": [
    "#CH05-Lab04 동전 던지기 게임\n",
    "\n",
    "\n",
    "import turtle\t\t\t# 터틀 그래픽 모듈을 불러옴\n",
    "import random \t\t\t# 난수 모듈을 불러옴\n",
    "\n",
    "screen = turtle.Screen()\n",
    "image1 = \"./back.gif\"\n",
    "image2 = \"./front.gif\"\n",
    "\n",
    "screen.addshape(image1)\n",
    "screen.addshape(image2)\n",
    "\n",
    "t1 = turtle.Turtle()\t\t# 터틀 생성\n",
    "coin = random.randint(0, 1)\t# 동전의 앞, 뒤 정보 만들기\n",
    "\n",
    "if coin == 0 :\n",
    "    t1.shape(image1)\n",
    "    t1.stamp()\n",
    "else : \n",
    "    t1.shape(image2)\n",
    "    t1.stamp()\t\n",
    "\n",
    "turtle.done()"
   ]
  },
  {
   "cell_type": "code",
   "execution_count": null,
   "id": "cd6a9f59",
   "metadata": {},
   "outputs": [],
   "source": []
  },
  {
   "cell_type": "code",
   "execution_count": null,
   "id": "878c346e",
   "metadata": {},
   "outputs": [],
   "source": []
  },
  {
   "cell_type": "markdown",
   "id": "d92975a3",
   "metadata": {},
   "source": [
    "# 찌릿찌릿 전기회로\n"
   ]
  },
  {
   "cell_type": "code",
   "execution_count": null,
   "id": "85a8749c",
   "metadata": {},
   "outputs": [],
   "source": []
  },
  {
   "cell_type": "markdown",
   "id": "8b30ecd8",
   "metadata": {},
   "source": [
    "# 윤년 판단"
   ]
  },
  {
   "cell_type": "code",
   "execution_count": null,
   "id": "91c95d52",
   "metadata": {},
   "outputs": [],
   "source": [
    "int year;\n",
    "    year = 2020;\n",
    "    if(year%4 == 0)\n",
    "    {\n",
    "        if( year%100 == 0)\n",
    "        {\n",
    "            if ( year%400 == 0)\n",
    "                printf(\" %d 년은 윤년 입니다.\", year);\n",
    "            else\n",
    "                printf(\" %d 년은 윤년이 아닙니다.\", year);\n",
    "        }\n",
    "        else\n",
    "            printf(\" %d 년은 윤년 입니다.\", year );\n",
    "    }\n",
    "    else\n",
    "        printf(\" %d 년은 윤년이 아닙니다.\", year);\n",
    "    printf(\"\\n\");"
   ]
  },
  {
   "cell_type": "code",
   "execution_count": 3,
   "id": "4174a2f8",
   "metadata": {},
   "outputs": [
    {
     "name": "stdout",
     "output_type": "stream",
     "text": [
      "연도를 입력하시오 :2012\n",
      "2012 년은 윤년이다.\n"
     ]
    }
   ],
   "source": [
    "year = int(input(\"연도를 입력하시오 :\"))\n",
    "if year%4 == 0 :\n",
    "    if year%100 == 0:\n",
    "        if year%400 ==0:\n",
    "            print(year,\"년은 윤년입니다.\")\n",
    "        else:\n",
    "            print(year,\"년은 윤년이 아닙니다.\")\n",
    "    else :\n",
    "        print(year,\"년은 윤년이다.\")\n",
    "\n",
    "        \n",
    "else:\n",
    "    print(year,\"년은 윤년이 아닙니다.\")\n",
    "        "
   ]
  },
  {
   "cell_type": "code",
   "execution_count": 5,
   "id": "0ac448d2",
   "metadata": {},
   "outputs": [
    {
     "name": "stdout",
     "output_type": "stream",
     "text": [
      "a 값 입력 :3\n",
      "b 값 입력 :6\n",
      "c 값 입력 : 9\n",
      "방정식은 서로 다른 두 허근입니다.\n"
     ]
    }
   ],
   "source": [
    "a = int(input(\"a 값 입력 :\"))\n",
    "b = int(input(\"b 값 입력 :\"))\n",
    "c = int(input(\"c 값 입력 : \"))\n",
    "\n",
    "D = b*b-(4*a*c)\n",
    "if D>0 :\n",
    "    print(\"방정식은 서로 다른 두 실근입니다.\")\n",
    "elif D==0:\n",
    "    print(\"방정식은 서로 같은 두 실근(중근)입니다.\")\n",
    "elif D <0:\n",
    "    print(\"방정식은 서로 다른 두 허근입니다.\")"
   ]
  },
  {
   "cell_type": "code",
   "execution_count": null,
   "id": "d5a081c5",
   "metadata": {},
   "outputs": [],
   "source": [
    "import turtle\n",
    "bigx1 = int(input(\"큰 원의 중심좌표 x1 :\"))\n",
    "bigy1 = int(input(\"큰 원의 중심좌표 y1 : \"))\n",
    "bigradius = int(input(\"큰 원의 반지름 :\"))\n",
    "\n",
    "t = turtle.Turtle()\n",
    "t.shape(\"turtle\")\n",
    "\n",
    "t.penup()\n",
    "t.goto(bigx1,bigy1)\n",
    "t.pendown()\n",
    "t.circle(bigradius)\n"
   ]
  },
  {
   "cell_type": "code",
   "execution_count": null,
   "id": "e0f29f60",
   "metadata": {},
   "outputs": [],
   "source": []
  }
 ],
 "metadata": {
  "kernelspec": {
   "display_name": "Python 3 (ipykernel)",
   "language": "python",
   "name": "python3"
  },
  "language_info": {
   "codemirror_mode": {
    "name": "ipython",
    "version": 3
   },
   "file_extension": ".py",
   "mimetype": "text/x-python",
   "name": "python",
   "nbconvert_exporter": "python",
   "pygments_lexer": "ipython3",
   "version": "3.8.2"
  },
  "toc": {
   "base_numbering": 1,
   "nav_menu": {},
   "number_sections": true,
   "sideBar": true,
   "skip_h1_title": false,
   "title_cell": "Table of Contents",
   "title_sidebar": "Contents",
   "toc_cell": false,
   "toc_position": {},
   "toc_section_display": true,
   "toc_window_display": false
  }
 },
 "nbformat": 4,
 "nbformat_minor": 5
}
