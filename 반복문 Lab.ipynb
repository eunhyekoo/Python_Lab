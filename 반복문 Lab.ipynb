{
 "cells": [
  {
   "cell_type": "markdown",
   "id": "8c923d9f",
   "metadata": {},
   "source": [
    "# 2일차 과제(반복문)"
   ]
  },
  {
   "cell_type": "markdown",
   "id": "54c47112",
   "metadata": {},
   "source": [
    "## 코드 줄여보기"
   ]
  },
  {
   "cell_type": "code",
   "execution_count": null,
   "id": "c65c079e",
   "metadata": {},
   "outputs": [],
   "source": [
    "import turtle\n",
    "t= turtle.Turtle()\n",
    "t.circle(100)\n",
    "for i in range(6):\n",
    "    t.circle(100)\n",
    "    t.left(60)\n",
    "    \n",
    "turtle.done()"
   ]
  },
  {
   "cell_type": "markdown",
   "id": "4a1c03b6",
   "metadata": {},
   "source": [
    "## 도돌이표"
   ]
  },
  {
   "cell_type": "markdown",
   "id": "78668c8e",
   "metadata": {},
   "source": [
    "## n각형 그리기"
   ]
  },
  {
   "cell_type": "code",
   "execution_count": null,
   "id": "c5d0552f",
   "metadata": {},
   "outputs": [
    {
     "name": "stdout",
     "output_type": "stream",
     "text": [
      "몇각형을 원하시나요?4\n"
     ]
    }
   ],
   "source": [
    "import turtle\n",
    "t= turtle.Turtle()\n",
    "\n",
    "a = int(input(\"몇각형을 원하시나요?\"))\n",
    "for i in range(a+1):\n",
    "    t.forward(100)\n",
    "    t.right(360//a)\n",
    "\n",
    "turtle.done()"
   ]
  },
  {
   "cell_type": "markdown",
   "id": "1f023b0d",
   "metadata": {},
   "source": [
    "## 랜덤 워크 시뮬레이션"
   ]
  },
  {
   "cell_type": "code",
   "execution_count": 1,
   "id": "b6eb0bf3",
   "metadata": {},
   "outputs": [],
   "source": [
    "import random\n",
    "import turtle\n",
    "\n",
    "t= turtle.Turtle()\n",
    "t.shape(\"turtle\")\n",
    "\n",
    "for i in range(20):\n",
    "    a = random.randrange(1,100)\n",
    "    t.forward(a)\n",
    "    b = random.randrange(1,100)\n",
    "    t.left(b)\n",
    "\n",
    "turtle.done()"
   ]
  },
  {
   "cell_type": "markdown",
   "id": "edac3ad6",
   "metadata": {},
   "source": [
    "## 범인 찾기 게임"
   ]
  },
  {
   "cell_type": "code",
   "execution_count": null,
   "id": "4ffa0e0a",
   "metadata": {},
   "outputs": [],
   "source": [
    "   if answer =! a:\n",
    "        score = score-10;\n",
    "        continue"
   ]
  },
  {
   "cell_type": "code",
   "execution_count": 1,
   "id": "c5159a90",
   "metadata": {},
   "outputs": [
    {
     "name": "stdout",
     "output_type": "stream",
     "text": [
      "범인이 있는 방은?2\n",
      "방 번호를 입력하세요 : 1\n",
      "범인은 없습니다.\n",
      "방 번호를 입력하세요 : 1\n",
      "범인은 없습니다.\n",
      "방 번호를 입력하세요 : 2\n",
      "범인은 없습니다.\n",
      "방 번호를 입력하세요 : 3\n",
      "범인은 없습니다.\n",
      "방 번호를 입력하세요 : 4\n",
      "4 번 방은 없습니다.\n",
      "방 번호를 입력하세요 : 1\n",
      "범인은 없습니다.\n",
      "방 번호를 입력하세요 : 2\n",
      "범인 체포!\n",
      "게임 종료\n",
      "점수 :  -40 점\n"
     ]
    }
   ],
   "source": [
    "import random\n",
    "\n",
    "\n",
    "score = 0;\n",
    "a = int(input(\"범인이 있는 방은?\"))\n",
    "\n",
    "while True:\n",
    "    room = random.randint(1,3)\n",
    "    n = int(input(\"방 번호를 입력하세요 : \"))\n",
    "    \n",
    "    if n == room : \n",
    "        print(\"범인 체포!\")\n",
    "        score += 10\n",
    "        break\n",
    "    elif n > 3 :\n",
    "        print(n, \"번 방은 없습니다.\")\n",
    "    else :\n",
    "        print(\"범인은 없습니다.\")\n",
    "        score -= 10\n",
    "print(\"게임 종료\")\n",
    "print(\"점수 : \", score,\"점\")\n",
    "  "
   ]
  },
  {
   "cell_type": "markdown",
   "id": "ec421f4f",
   "metadata": {},
   "source": [
    "## 몬드리안 터틀"
   ]
  },
  {
   "cell_type": "code",
   "execution_count": 4,
   "id": "687bec11",
   "metadata": {},
   "outputs": [],
   "source": [
    "import turtle, random\n",
    "\n",
    "t = turtle.Turtle()\n",
    "t.speed(0)\n",
    "t.ht()\n",
    "for i in range(30):\n",
    "    t.goto(0,0)\n",
    "    x  = random.randint(-300,300)\n",
    "    y = random.randint(-300,300)\n",
    "    length = random.randint(10,300)\n",
    "    \n",
    "    r=random.random()\n",
    "    g=random.random()\n",
    "    b=random.random()\n",
    "    \n",
    "    t.color(r,g,b)\n",
    "    t.begin_fill()\n",
    "    t.penup()\n",
    "    t.goto(x,y)\n",
    "    for j in range(4):\n",
    "        \n",
    "        t.forward(length)\n",
    "        t.right(90)   \n",
    "    t.end_fill()\n",
    "    t.penup()\n",
    "\n",
    "turtle.done()"
   ]
  },
  {
   "cell_type": "markdown",
   "id": "8e81f81b",
   "metadata": {},
   "source": [
    "## 모든 약수 구하기"
   ]
  },
  {
   "cell_type": "code",
   "execution_count": 1,
   "id": "dd1c5156",
   "metadata": {},
   "outputs": [
    {
     "name": "stdout",
     "output_type": "stream",
     "text": [
      "자연수 입력 : 6\n",
      "[1, 2, 3, 6]\n"
     ]
    }
   ],
   "source": [
    "num = int(input(\"자연수 입력 : \"))\n",
    "nlist = []\n",
    "for i in range(1,num+1):\n",
    "    if num%i == 0 :\n",
    "        nlist.append(i)\n",
    "\n",
    "print(nlist)"
   ]
  },
  {
   "cell_type": "markdown",
   "id": "80ed8e64",
   "metadata": {},
   "source": [
    "## 최대공약수 구하기"
   ]
  },
  {
   "cell_type": "markdown",
   "id": "970d24bb",
   "metadata": {},
   "source": [
    "## 별그리는 터틀"
   ]
  },
  {
   "cell_type": "code",
   "execution_count": null,
   "id": "f53d9bb5",
   "metadata": {
    "scrolled": true
   },
   "outputs": [],
   "source": [
    "import turtle\n",
    "\n",
    "t = turtle.Turtle()\n",
    "t.shape(\"turtle\")\n",
    "t.speed(0)\n",
    "for i in range(5):\n",
    "    turtle.forward(200)\n",
    "    turtle.right(144)\n",
    "    \n",
    "turtle.done()"
   ]
  },
  {
   "cell_type": "code",
   "execution_count": null,
   "id": "8a2fef28",
   "metadata": {},
   "outputs": [],
   "source": []
  },
  {
   "cell_type": "code",
   "execution_count": null,
   "id": "d7121e1d",
   "metadata": {},
   "outputs": [],
   "source": []
  }
 ],
 "metadata": {
  "kernelspec": {
   "display_name": "Python 3 (ipykernel)",
   "language": "python",
   "name": "python3"
  },
  "language_info": {
   "codemirror_mode": {
    "name": "ipython",
    "version": 3
   },
   "file_extension": ".py",
   "mimetype": "text/x-python",
   "name": "python",
   "nbconvert_exporter": "python",
   "pygments_lexer": "ipython3",
   "version": "3.8.2"
  },
  "toc": {
   "base_numbering": 1,
   "nav_menu": {},
   "number_sections": true,
   "sideBar": true,
   "skip_h1_title": false,
   "title_cell": "Table of Contents",
   "title_sidebar": "Contents",
   "toc_cell": false,
   "toc_position": {},
   "toc_section_display": true,
   "toc_window_display": false
  }
 },
 "nbformat": 4,
 "nbformat_minor": 5
}
