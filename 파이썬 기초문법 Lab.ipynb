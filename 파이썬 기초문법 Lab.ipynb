{
 "cells": [
  {
   "cell_type": "markdown",
   "id": "eeae758d",
   "metadata": {},
   
   "source": [
    "# 천둥번개 거리 측정"
   ]
  },
  {
   "cell_type": "code",
   "execution_count": 1,
   "id": "d263ec13",
   "metadata": {},
   "outputs": [
    {
     "name": "stdout",
     "output_type": "stream",
     "text": [
      "측정 시간(초) 입력:3\n",
      "자신의 위치에서 번개가 친 장소까지의 거리 =  1020 m\n"
     ]
    }
   ],
   "source": [
    "sound = 340\n",
    "sec= int(input(\"측정 시간(초) 입력:\"))\n",
    "print(\"자신의 위치에서 번개가 친 장소까지의 거리 = \",sec * sound,\"m\")"
   ]
  },
  {
   "cell_type": "markdown",
   "id": "8d42c060",
   "metadata": {},
   "source": [
    "# 두 점 사이의 거리"
   ]
  },
  {
   "cell_type": "code",
   "execution_count": 1,
   "id": "2558330c",
   "metadata": {},
   "outputs": [
    {
     "name": "stdout",
     "output_type": "stream",
     "text": [
      "x1: 5\n",
      "y1: 7\n",
      "x2: 2\n",
      "y2: 4\n",
      "두 점 사이의 거리= 4.242640687119285\n"
     ]
    }
   ],
   "source": [
    "#CH03-Lab03 두 점 사이의 거리 구하기\n",
    "\n",
    "x1 = int(input(\"x1: \"))\n",
    "y1 = int(input(\"y1: \"))\n",
    "x2 = int(input(\"x2: \"))\n",
    "y2 = int(input(\"y2: \"))\n",
    "print(\"두 점 사이의 거리=\", ((x2-x1)**2 + (y2-y1)**2)**0.5)\n"
   ]
  },
  {
   "cell_type": "markdown",
   "id": "15eca7ad",
   "metadata": {},
   "source": [
    " # 그리니치 표준시-세계 시간의 기준점\n"
   ]
  },
  {
   "cell_type": "code",
   "execution_count": 2,
   "id": "f4cc6357",
   "metadata": {},
   "outputs": [
    {
     "name": "stdout",
     "output_type": "stream",
     "text": [
      "현재 한국 시간 : 12시20분\n"
     ]
    }
   ],
   "source": [
    "import time\n",
    "\n",
    "fseconds = time.time()\n",
    "total_sec = int(fseconds)\n",
    "total_min = total_sec // 60    # 몫을 구하는 연산자\n",
    "minute = total_min %60\n",
    "total_hour = total_min // 60\n",
    "hour = total_hour % 24 + 9\n",
    "\n",
    "print(\"현재 한국 시간 : \" + str(hour)+ \"시\" + str(minute) + \"분\")"
   ]
  },
  {
   "cell_type": "markdown",
   "id": "2dec1f37",
   "metadata": {},
   "source": [
    "# 반지름으로 원 그리기"
   ]
  },
  {
   "cell_type": "code",
   "execution_count": null,
   "id": "05ae6ba6",
   "metadata": {},
   "outputs": [
    {
     "name": "stdout",
     "output_type": "stream",
     "text": [
      "원의 반지름을 입력하시오 : 100\n",
      "원의 색깔을 입력하시오 : orange\n"
     ]
    }
   ],
   "source": [
    "import turtle\n",
    "\n",
    "t = turtle.Turtle()\n",
    "t.shape(\"turtle\")\n",
    "\n",
    "radius = int(input(\"원의 반지름을 입력하시오 : \"))\n",
    "colors =  input(\"원의 색깔을 입력하시오 : \")\n",
    "\n",
    "t.color(colors)\n",
    "\n",
    "t.begin_fill()\n",
    "t.circle(radius)\n",
    "t.end_fill()\n",
    "\n",
    "turtle.done()\n",
    "                   \n"
   ]
  },
  {
   "cell_type": "markdown",
   "id": "5c5930dc",
   "metadata": {},
   "source": [
    "# 화씨온도-> 섭씨온도"
   ]
  },
  {
   "cell_type": "code",
   "execution_count": 2,
   "id": "e0a287d3",
   "metadata": {},
   "outputs": [
    {
     "name": "stdout",
     "output_type": "stream",
     "text": [
      "화씨온도 : 50\n",
      "섭씨온도: 10.0\n"
     ]
    }
   ],
   "source": [
    "ftemp = int(input(\"화씨온도 : \"))\n",
    "ctemp = (ftemp-32)*5/9\n",
    "print(\"섭씨온도:\", ctemp)"
   ]
  },
  {
   "cell_type": "markdown",
   "id": "55542fff",
   "metadata": {},
   "source": [
    "# Turtle 두 점 사이의 거리 확인하기"
   ]
  },
  {
   "cell_type": "code",
   "execution_count": null,
   "id": "3d03950c",
   "metadata": {},
   "outputs": [],
   "source": [
    "import turtle\n",
    "t = turtle.Turtle()\n",
    "t.shape(\"turtle\")\n",
    "\n",
    "t.goto(0,0)  # 터틀 위치 셋팅\n",
    "t.setheading(45) # 시계 반대 방향으로 45도가 되도록 회전\n",
    "t.forward(141.4) # 앞으로 141.4 만큼 이동\n",
    "\n",
    "t.up() # 펜을 들어서 선이 그려지지 않도록\n",
    "t.goto(0,0) # 터틀 위치 설정\n",
    "t.down()\n",
    "\n",
    "t.setheading(0) # 터틀 머리 방향이 0도가 되도록\n",
    "t.forward(100)\n",
    "t.setheading(90)\n",
    "\n",
    "t.forward(100)"
   ]
  },
  {
   "cell_type": "markdown",
   "id": "c367fc2c",
   "metadata": {},
   "source": [
    "# 계산대 프로그램"
   ]
  },
  {
   "cell_type": "code",
   "execution_count": 1,
   "id": "f720253b",
   "metadata": {},
   "outputs": [
    {
     "name": "stdout",
     "output_type": "stream",
     "text": [
      "투입한 돈 : 10000\n",
      "물건 가격 : 4000\n",
      "거스름돈 :  6000\n",
      "500원 동전의 개수 : 12\n",
      "100원 동전의 개수 : 0\n"
     ]
    }
   ],
   "source": [
    "money = int(input(\"투입한 돈 : \"))\n",
    "price = int(input(\"물건 가격 : \"))\n",
    "\n",
    "change = money - price\n",
    "print(\"거스름돈 : \", change)\n",
    "\n",
    "coin500 = change //500\n",
    "change = change %500\n",
    "\n",
    "coin100 = change//100\n",
    "\n",
    "print(\"500원 동전의 개수 :\", coin500)\n",
    "print(\"100원 동전의 개수 :\", coin100)"
   ]
  },
  {
   "cell_type": "code",
   "execution_count": null,
   "id": "12211733",
   "metadata": {},
   "outputs": [],
   "source": []
  }
 ],
 "metadata": {
  "kernelspec": {
   "display_name": "Python 3 (ipykernel)",
   "language": "python",
   "name": "python3"
  },
  "language_info": {
   "codemirror_mode": {
    "name": "ipython",
    "version": 3
   },
   "file_extension": ".py",
   "mimetype": "text/x-python",
   "name": "python",
   "nbconvert_exporter": "python",
   "pygments_lexer": "ipython3",
   "version": "3.8.2"
  },
  "toc": {
   "base_numbering": 1,
   "nav_menu": {},
   "number_sections": true,
   "sideBar": true,
   "skip_h1_title": false,
   "title_cell": "Table of Contents",
   "title_sidebar": "Contents",
   "toc_cell": false,
   "toc_position": {},
   "toc_section_display": true,
   "toc_window_display": false
  }
 },
 "nbformat": 4,
 "nbformat_minor": 5
}
