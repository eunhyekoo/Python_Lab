{
 "cells": [
  {
   "cell_type": "code",
   "execution_count": 4,
   "id": "81b0ae72",
   "metadata": {},
   "outputs": [
    {
     "name": "stdout",
     "output_type": "stream",
     "text": [
      "서울특별시 종로구\n",
      "홍길동\n",
      " \n",
      "서울특별시 종로구\n",
      "홍길동\n",
      " \n"
     ]
    }
   ],
   "source": [
    "def print_address():\n",
    "    print(\"서울특별시 종로구\")\n",
    "    print(\"홍길동\")\n",
    "\n",
    "for i in range(2):\n",
    "    print_address()\n",
    "    print(\" \")\n",
    "    "
   ]
  },
  {
   "cell_type": "code",
   "execution_count": 3,
   "id": "95c5c28b",
   "metadata": {},
   "outputs": [
    {
     "name": "stdout",
     "output_type": "stream",
     "text": [
      "78.5\n",
      "392.5\n"
     ]
    }
   ],
   "source": [
    "def calc_area(radius):\n",
    "    area = 3.14 * radius**2\n",
    "    return area\n",
    "\n",
    "c_area = calc_area(5.0)\n",
    "print(c_area)\n",
    "\n",
    "area_sum = calc_area(5.0) + calc_area(10.0)\n",
    "\n",
    "print(area_sum)"
   ]
  },
  {
   "cell_type": "code",
   "execution_count": 6,
   "id": "7cdb3ea1",
   "metadata": {},
   "outputs": [
    {
     "name": "stdout",
     "output_type": "stream",
     "text": [
      "2 , 3\n"
     ]
    }
   ],
   "source": [
    "def get_input():\n",
    "    return 2,3\n",
    "\n",
    "x,y = get_input()\n",
    "print(x,\",\",y)"
   ]
  },
  {
   "cell_type": "code",
   "execution_count": 7,
   "id": "c5274038",
   "metadata": {},
   "outputs": [
    {
     "name": "stdout",
     "output_type": "stream",
     "text": [
      "자연수를 입력하세오 : 10\n",
      "짝수\n"
     ]
    }
   ],
   "source": [
    "def judge(num):\n",
    "    if(num%2 == 0):\n",
    "        print(\"짝수\")\n",
    "        return\n",
    "    print(\"홀수\")\n",
    "\n",
    "num = int(input(\"자연수를 입력하세오 : \"))\n",
    "judge(num)"
   ]
  },
  {
   "cell_type": "code",
   "execution_count": 1,
   "id": "d009c5b3",
   "metadata": {},
   "outputs": [],
   "source": [
    "import turtle\n",
    "\n",
    "t = turtle.Turtle()\n",
    "t.shape(\"turtle\")\n",
    "\n",
    "\n",
    "def rect():\n",
    "   \n",
    "    for i in range(4):  \n",
    "        t.forward(100)\n",
    "        t.left(90)\n",
    "\n",
    "        \n",
    "rect()\n",
    "t.up()\n",
    "t.forward(100)\n",
    "\n",
    "t.down()\n",
    "rect()\n",
    "turtle.done()\n",
    "\n",
    "\n",
    "    "
   ]
  },
  {
   "cell_type": "code",
   "execution_count": 5,
   "id": "fdbba678",
   "metadata": {},
   "outputs": [
    {
     "name": "stdout",
     "output_type": "stream",
     "text": [
      "-10\n"
     ]
    }
   ],
   "source": [
    "def calc(x,y):\n",
    "    return x-y\n",
    "\n",
    "print(calc(10,20))"
   ]
  },
  {
   "cell_type": "markdown",
   "id": "821610ca",
   "metadata": {},
   "source": [
    "# LAB"
   ]
  },
  {
   "cell_type": "markdown",
   "id": "e7afea1b",
   "metadata": {},
   "source": [
    "## BMI 계산기"
   ]
  },
  {
   "cell_type": "code",
   "execution_count": null,
   "id": "72382625",
   "metadata": {},
   "outputs": [],
   "source": [
    "height = float(input(\"키를 m 단위로 입력하세요 : \"))\n",
    "weight = int(input(\"몸무게를 kg 단위로 입력하세요 : \"))\n",
    "\n",
    "def calc(h,w):\n",
    "    \n",
    "    bmi = w/(h*h)\n",
    "    \n",
    "    if bmi < 18.5:\n",
    "        print(\"저체중입니다.\")\n",
    "    elif 18.5< bmi< 22.9 :\n",
    "        print(\"정상입니다.\")\n",
    "    elif 23<bmi<24.9 :\n",
    "        print(\"과체중입니다.\")\n",
    "    elif 25<bmi<29.9 :\n",
    "        print(\"경도비만입니다.\")\n",
    "    elif bmi>30 :\n",
    "        print(\"고도비만 입니다\")\n",
    "        \n",
    "\n",
    "calc(height,weight)"
   ]
  },
  {
   "cell_type": "markdown",
   "id": "8a033b7e",
   "metadata": {},
   "source": [
    "## 구구단 갑자기?"
   ]
  },
  {
   "cell_type": "code",
   "execution_count": 5,
   "id": "18f56e75",
   "metadata": {},
   "outputs": [
    {
     "name": "stdout",
     "output_type": "stream",
     "text": [
      "test\n",
      "['c']\n"
     ]
    }
   ],
   "source": [
    "letters = ['a','b','c']\n",
    "print(\"test\")\n",
    "print(letters[-1:3])"
   ]
  },
  {
   "cell_type": "code",
   "execution_count": 1,
   "id": "700c2e14",
   "metadata": {},
   "outputs": [
    {
     "name": "stdout",
     "output_type": "stream",
     "text": [
      "< 1 단>\n",
      "1 * 1 = 1\n",
      "1 * 2 = 2\n",
      "1 * 3 = 3\n",
      "1 * 4 = 4\n",
      "1 * 5 = 5\n",
      "1 * 6 = 6\n",
      "1 * 7 = 7\n",
      "1 * 8 = 8\n",
      "1 * 9 = 9\n",
      "< 2 단>\n",
      "2 * 1 = 2\n",
      "2 * 2 = 4\n",
      "2 * 3 = 6\n",
      "2 * 4 = 8\n",
      "2 * 5 = 10\n",
      "2 * 6 = 12\n",
      "2 * 7 = 14\n",
      "2 * 8 = 16\n",
      "2 * 9 = 18\n",
      "< 3 단>\n",
      "3 * 1 = 3\n",
      "3 * 2 = 6\n",
      "3 * 3 = 9\n",
      "3 * 4 = 12\n",
      "3 * 5 = 15\n",
      "3 * 6 = 18\n",
      "3 * 7 = 21\n",
      "3 * 8 = 24\n",
      "3 * 9 = 27\n",
      "< 4 단>\n",
      "4 * 1 = 4\n",
      "4 * 2 = 8\n",
      "4 * 3 = 12\n",
      "4 * 4 = 16\n",
      "4 * 5 = 20\n",
      "4 * 6 = 24\n",
      "4 * 7 = 28\n",
      "4 * 8 = 32\n",
      "4 * 9 = 36\n",
      "< 5 단>\n",
      "5 * 1 = 5\n",
      "5 * 2 = 10\n",
      "5 * 3 = 15\n",
      "5 * 4 = 20\n",
      "5 * 5 = 25\n",
      "5 * 6 = 30\n",
      "5 * 7 = 35\n",
      "5 * 8 = 40\n",
      "5 * 9 = 45\n",
      "< 6 단>\n",
      "6 * 1 = 6\n",
      "6 * 2 = 12\n",
      "6 * 3 = 18\n",
      "6 * 4 = 24\n",
      "6 * 5 = 30\n",
      "6 * 6 = 36\n",
      "6 * 7 = 42\n",
      "6 * 8 = 48\n",
      "6 * 9 = 54\n",
      "< 7 단>\n",
      "7 * 1 = 7\n",
      "7 * 2 = 14\n",
      "7 * 3 = 21\n",
      "7 * 4 = 28\n",
      "7 * 5 = 35\n",
      "7 * 6 = 42\n",
      "7 * 7 = 49\n",
      "7 * 8 = 56\n",
      "7 * 9 = 63\n",
      "< 8 단>\n",
      "8 * 1 = 8\n",
      "8 * 2 = 16\n",
      "8 * 3 = 24\n",
      "8 * 4 = 32\n",
      "8 * 5 = 40\n",
      "8 * 6 = 48\n",
      "8 * 7 = 56\n",
      "8 * 8 = 64\n",
      "8 * 9 = 72\n",
      "< 9 단>\n",
      "9 * 1 = 9\n",
      "9 * 2 = 18\n",
      "9 * 3 = 27\n",
      "9 * 4 = 36\n",
      "9 * 5 = 45\n",
      "9 * 6 = 54\n",
      "9 * 7 = 63\n",
      "9 * 8 = 72\n",
      "9 * 9 = 81\n"
     ]
    }
   ],
   "source": [
    "for i in range(1,10):\n",
    "    print(\"<\",i,\"단>\")\n",
    "    for j in range (1,10):\n",
    "        print(i,\"*\",j,\"=\",i*j)\n",
    "      "
   ]
  },
  {
   "cell_type": "markdown",
   "id": "1974f455",
   "metadata": {},
   "source": [
    "## 환전 계산기"
   ]
  },
  {
   "cell_type": "code",
   "execution_count": null,
   "id": "3b37d35e",
   "metadata": {},
   "outputs": [],
   "source": [
    "list = [1182,1078,1286,169]\n",
    "\n",
    "amt = int(input(\"환전금액을 입력하세요 : \"))\n",
    "con = input(\"국가를 입력하세요 : \")\n",
    "money = 0\n",
    "percent = 0\n",
    "def dollar(amt,con):\n",
    "    if con == '미국':\n",
    "        percent = 1182.5\n",
    "    elif con == '일본':\n",
    "        percent = 1078.14\n",
    "    elif con == '유럽':\n",
    "        percent = 1286.74\n",
    "    elif con == '중국':\n",
    "        percent = 169.22\n",
    "    else :\n",
    "        return print(\"해당 국가 정보가 없습니다.\")\n",
    "    print(amt,\"원은\", round(amt/percent,2),\" 위안 입니다.\")\n",
    "\n",
    "dollar(amt,con)\n"
   ]
  },
  {
   "cell_type": "code",
   "execution_count": 6,
   "id": "a16725ba",
   "metadata": {},
   "outputs": [
    {
     "name": "stdout",
     "output_type": "stream",
     "text": [
      "환전금액을 입력하세요 : 1000\n",
      "국가를 입력하세요 : 중국\n",
      "1000 원은 8.89 위안엔 입니다.\n"
     ]
    }
   ],
   "source": [
    "# 환전 계산기 답 \n",
    "def exchange(w,p):\n",
    "    if p in country_list:\n",
    "        m_code = country_list.index(p)\n",
    "    else:\n",
    "        print(\"해당 국가의 정보가 없습니다.\")\n",
    "\n",
    "    result = round(w/rate[m_code],2)\n",
    "    print(w,\"원은\", result,unit[m_code],\"입니다.\")\n",
    "    \n",
    "country_list = ['미국','중국','일본','한국']\n",
    "unit = ['달러','위안''엔','원']\n",
    "rate = [1182.5,112.5,82.5,12.5]\n",
    "\n",
    "amt = int(input(\"환전금액을 입력하세요 : \"))\n",
    "con = input(\"국가를 입력하세요 : \")\n",
    "exchange(amt,con)"
   ]
  },
  {
   "cell_type": "code",
   "execution_count": null,
   "id": "b7701ed0",
   "metadata": {},
   "outputs": [],
   "source": [
    "country_list = ['미국','중국','일본','한국']\n",
    "unit = ['달러','위안''엔','원']\n",
    "rate = [1182.5,112.5,82.5,12.5]\n",
    "\n",
    "amt = int(input(\"환전금액을 입력하세요 : \"))\n",
    "con = input(\"국가를 입력하세요 : \")\n",
    "exchange(amt,con)"
   ]
  },
  {
   "cell_type": "markdown",
   "id": "67682fb9",
   "metadata": {},
   "source": [
    "## N각형을 그리는 함수 작성하기\n"
   ]
  },
  {
   "cell_type": "code",
   "execution_count": 1,
   "id": "740bb47c",
   "metadata": {},
   "outputs": [
    {
     "name": "stdout",
     "output_type": "stream",
     "text": [
      "몇각형?:10\n"
     ]
    }
   ],
   "source": [
    "import turtle\n",
    "\n",
    "t = turtle.Turtle();\n",
    "n = int(input(\"몇각형?:\"))\n",
    "  \n",
    "def n_polygon(n,length):\n",
    "    for i in range(n):\n",
    "        t.forward(length)\n",
    "        t.left(360/n)\n",
    "        \n",
    "\n",
    "for i in range(10):\n",
    "    t.left(20)\n",
    "    n_polygon(n,100)\n",
    "    \n",
    "turtle.done()"
   ]
  },
  {
   "cell_type": "markdown",
   "id": "c14f37c4",
   "metadata": {},
   "source": [
    "## 클릭하는 곳에 사각형 그리기"
   ]
  },
  {
   "cell_type": "code",
   "execution_count": null,
   "id": "17e92812",
   "metadata": {},
   "outputs": [],
   "source": [
    "import turtle\n",
    "\n",
    "t = turtle.Turtle()\n",
    "t.color(\"orange\")\n",
    "t.speed(0)\n",
    "\n",
    "def square(length):\n",
    "    for i in range(4):\n",
    "        t.forward(length)\n",
    "        t.left(90)\n",
    "    \n",
    "\n",
    "def draw(x,y):\n",
    "    t.penup()\n",
    "    t.goto(x,y)\n",
    "    t.pendown()\n",
    "    \n",
    "    t.begin_fill()\n",
    "    square(100)\n",
    "    t.end_fill()\n",
    "    return\n",
    "    \n",
    "\n",
    "s = turtle.Screen()\n",
    "s.onscreenclick(draw)\n",
    "\n",
    "turtle.done()"
   ]
  },
  {
   "cell_type": "markdown",
   "id": "fa3df403",
   "metadata": {},
   "source": [
    "## 한붓 그리기"
   ]
  },
  {
   "cell_type": "code",
   "execution_count": null,
   "id": "e3c6422d",
   "metadata": {},
   "outputs": [],
   "source": [
    "import turtle\n",
    "\n",
    "def draw(x,y):\n",
    "    t.goto(x,y)\n",
    "\n",
    "t= turtle.Turtle()\n",
    "t.shape(\"turtle\")\n",
    "\n",
    "s = turtle.Screen()  #그림이 그려지는 화면을 얻는다\n",
    "s.onscreenclick(draw)\n",
    "\n",
    "turtle.done()"
   ]
  },
  {
   "cell_type": "markdown",
   "id": "5fc783a2",
   "metadata": {},
   "source": [
    "## 이차함수 그래프 그리기"
   ]
  },
  {
   "cell_type": "code",
   "execution_count": null,
   "id": "7befa290",
   "metadata": {},
   "outputs": [],
   "source": [
    "import turtle as t\n",
    "\n",
    "\n",
    "\n",
    "def f(x):\n",
    "   \n",
    "   return x**2+1\n",
    "    \n",
    "\n",
    "t.goto(0,200)\n",
    "t.goto(0,0)\n",
    "t.goto(200,0)\n",
    "t.goto(0,0)\n",
    "\n",
    "for x in range(150):\n",
    "    t.goto(x,int(0.01*f(x)))\n",
    "\n",
    "\n",
    "t.done()\n"
   ]
  },
  {
   "cell_type": "markdown",
   "id": "5be887a9",
   "metadata": {},
   "source": [
    "## 테세우스 터틀 미로 탈출 게임"
   ]
  },
  {
   "cell_type": "code",
   "execution_count": null,
   "id": "39041bdd",
   "metadata": {},
   "outputs": [],
   "source": [
    "import turtle\n",
    "\n",
    "t = turtle.Pen()\n",
    "\n",
    "t.goto(0,200)\n",
    "t.right(90)\n",
    "t.goto(40,200)\n",
    "\n",
    "t.done()"
   ]
  },
  {
   "cell_type": "code",
   "execution_count": 2,
   "id": "fcd081d6",
   "metadata": {},
   "outputs": [
    {
     "name": "stdout",
     "output_type": "stream",
     "text": [
      "재귀호출 할 숫자 입력하시오 : 10\n"
     ]
    },
    {
     "data": {
      "text/plain": [
       "3628800"
      ]
     },
     "execution_count": 2,
     "metadata": {},
     "output_type": "execute_result"
    }
   ],
   "source": [
    "## 재귀호출\n",
    "n = int(input(\"재귀호출 할 숫자 입력하시오 : \"))\n",
    "\n",
    "\n",
    "def func(n):\n",
    "    if n == 1:\n",
    "        return 1\n",
    "    else : \n",
    "        return n * func(n-1)\n",
    "        \n",
    "        \n",
    "func(n)"
   ]
  }
 ],
 "metadata": {
  "kernelspec": {
   "display_name": "Python 3 (ipykernel)",
   "language": "python",
   "name": "python3"
  },
  "language_info": {
   "codemirror_mode": {
    "name": "ipython",
    "version": 3
   },
   "file_extension": ".py",
   "mimetype": "text/x-python",
   "name": "python",
   "nbconvert_exporter": "python",
   "pygments_lexer": "ipython3",
   "version": "3.8.2"
  },
  "toc": {
   "base_numbering": 1,
   "nav_menu": {},
   "number_sections": true,
   "sideBar": true,
   "skip_h1_title": false,
   "title_cell": "Table of Contents",
   "title_sidebar": "Contents",
   "toc_cell": false,
   "toc_position": {},
   "toc_section_display": true,
   "toc_window_display": true
  }
 },
 "nbformat": 4,
 "nbformat_minor": 5
}
